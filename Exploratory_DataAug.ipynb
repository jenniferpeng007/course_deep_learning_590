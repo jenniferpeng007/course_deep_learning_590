{
 "cells": [
  {
   "cell_type": "markdown",
   "metadata": {
    "colab_type": "text",
    "id": "G2WrZJh_aZSG"
   },
   "source": [
    "## Quora Insincere Question Classification\n",
    "\n",
    "An insincere question is defined as a question intended to make a statement rather than look for helpful answers. Some characteristics that can signify that a question is insincere:\n",
    "\n",
    " (1) Has a non-neutral tone      \n",
    "- Has an exaggerated tone to underscore a point about a group of people\n",
    "- Is rhetorical and meant to imply a statement about a group of people\n",
    "\n",
    "(2) Is disparaging or inflammatory\n",
    "- Suggests a discriminatory idea against a protected class of people, or seeks confirmation of a stereotype\n",
    "- Makes disparaging attacks/insults against a specific person or group of people\n",
    "- Based on an outlandish premise about a group of people\n",
    "- Disparages against a characteristic that is not fixable and not measurable\n",
    "\n",
    "(3) Isn't grounded in reality\n",
    "- Based on false information, or contains absurd assumptions\n",
    "\n",
    "(4) Uses sexual content (incest, bestiality, pedophilia) for shock value, and not to seek genuine answers"
   ]
  },
  {
   "cell_type": "markdown",
   "metadata": {
    "colab_type": "text",
    "id": "BknRCJdVaZSJ"
   },
   "source": [
    "### 1.Data Exploration"
   ]
  },
  {
   "cell_type": "code",
   "execution_count": 1,
   "metadata": {
    "colab": {
     "base_uri": "https://localhost:8080/",
     "height": 51
    },
    "colab_type": "code",
    "id": "Bj3qYxNraZSK",
    "outputId": "b7dee99a-65a8-40a3-ab04-1f77cb0ca495"
   },
   "outputs": [
    {
     "data": {
      "text/html": [
       "        <script type=\"text/javascript\">\n",
       "        window.PlotlyConfig = {MathJaxConfig: 'local'};\n",
       "        if (window.MathJax) {MathJax.Hub.Config({SVG: {font: \"STIX-Web\"}});}\n",
       "        if (typeof require !== 'undefined') {\n",
       "        require.undef(\"plotly\");\n",
       "        requirejs.config({\n",
       "            paths: {\n",
       "                'plotly': ['https://cdn.plot.ly/plotly-latest.min']\n",
       "            }\n",
       "        });\n",
       "        require(['plotly'], function(Plotly) {\n",
       "            window._Plotly = Plotly;\n",
       "        });\n",
       "        }\n",
       "        </script>\n",
       "        "
      ]
     },
     "metadata": {},
     "output_type": "display_data"
    },
    {
     "name": "stderr",
     "output_type": "stream",
     "text": [
      "[nltk_data] Downloading package stopwords to\n",
      "[nltk_data]     /Users/siyaopeng/nltk_data...\n",
      "[nltk_data]   Package stopwords is already up-to-date!\n"
     ]
    }
   ],
   "source": [
    "# import Libraries needed for analysis\n",
    "import pandas as pd\n",
    "import numpy as np\n",
    "import operator \n",
    "import re\n",
    "import string  \n",
    "from nltk.corpus import stopwords\n",
    "\n",
    "from plotly import tools\n",
    "import plotly.offline as py\n",
    "py.init_notebook_mode(connected=True)\n",
    "import plotly.graph_objs as go\n",
    "from plotly.subplots import make_subplots\n",
    "\n",
    "\n",
    "import seaborn as sns\n",
    "import matplotlib.pyplot as plt\n",
    "%matplotlib inline\n",
    "\n",
    "import nltk\n",
    "nltk.download('stopwords')\n",
    "\n",
    "import warnings\n",
    "warnings.filterwarnings('ignore')\n"
   ]
  },
  {
   "cell_type": "markdown",
   "metadata": {
    "colab_type": "text",
    "id": "M6tvt9GJlD1J"
   },
   "source": [
    "**Data Population:** Data used will be from the [Kaggle Quora Classification Competition](https://www.kaggle.com/c/quora-insincere-questions-classification/data)"
   ]
  },
  {
   "cell_type": "code",
   "execution_count": 2,
   "metadata": {
    "colab": {
     "base_uri": "https://localhost:8080/",
     "height": 221
    },
    "colab_type": "code",
    "id": "y2rCRmi5aZSV",
    "outputId": "a441c6c4-ba9f-4117-ba9b-876ec991701f"
   },
   "outputs": [
    {
     "name": "stdout",
     "output_type": "stream",
     "text": [
      "(1306122, 3)\n"
     ]
    },
    {
     "data": {
      "text/html": [
       "<div>\n",
       "<style scoped>\n",
       "    .dataframe tbody tr th:only-of-type {\n",
       "        vertical-align: middle;\n",
       "    }\n",
       "\n",
       "    .dataframe tbody tr th {\n",
       "        vertical-align: top;\n",
       "    }\n",
       "\n",
       "    .dataframe thead th {\n",
       "        text-align: right;\n",
       "    }\n",
       "</style>\n",
       "<table border=\"1\" class=\"dataframe\">\n",
       "  <thead>\n",
       "    <tr style=\"text-align: right;\">\n",
       "      <th></th>\n",
       "      <th>qid</th>\n",
       "      <th>question_text</th>\n",
       "      <th>target</th>\n",
       "    </tr>\n",
       "  </thead>\n",
       "  <tbody>\n",
       "    <tr>\n",
       "      <th>0</th>\n",
       "      <td>00002165364db923c7e6</td>\n",
       "      <td>How did Quebec nationalists see their province...</td>\n",
       "      <td>0</td>\n",
       "    </tr>\n",
       "    <tr>\n",
       "      <th>1</th>\n",
       "      <td>000032939017120e6e44</td>\n",
       "      <td>Do you have an adopted dog, how would you enco...</td>\n",
       "      <td>0</td>\n",
       "    </tr>\n",
       "    <tr>\n",
       "      <th>2</th>\n",
       "      <td>0000412ca6e4628ce2cf</td>\n",
       "      <td>Why does velocity affect time? Does velocity a...</td>\n",
       "      <td>0</td>\n",
       "    </tr>\n",
       "    <tr>\n",
       "      <th>3</th>\n",
       "      <td>000042bf85aa498cd78e</td>\n",
       "      <td>How did Otto von Guericke used the Magdeburg h...</td>\n",
       "      <td>0</td>\n",
       "    </tr>\n",
       "    <tr>\n",
       "      <th>4</th>\n",
       "      <td>0000455dfa3e01eae3af</td>\n",
       "      <td>Can I convert montra helicon D to a mountain b...</td>\n",
       "      <td>0</td>\n",
       "    </tr>\n",
       "  </tbody>\n",
       "</table>\n",
       "</div>"
      ],
      "text/plain": [
       "                    qid                                      question_text  \\\n",
       "0  00002165364db923c7e6  How did Quebec nationalists see their province...   \n",
       "1  000032939017120e6e44  Do you have an adopted dog, how would you enco...   \n",
       "2  0000412ca6e4628ce2cf  Why does velocity affect time? Does velocity a...   \n",
       "3  000042bf85aa498cd78e  How did Otto von Guericke used the Magdeburg h...   \n",
       "4  0000455dfa3e01eae3af  Can I convert montra helicon D to a mountain b...   \n",
       "\n",
       "   target  \n",
       "0       0  \n",
       "1       0  \n",
       "2       0  \n",
       "3       0  \n",
       "4       0  "
      ]
     },
     "execution_count": 2,
     "metadata": {},
     "output_type": "execute_result"
    }
   ],
   "source": [
    "# Import the training dataset\n",
    "train = pd.read_csv('train.csv')\n",
    "print(train.shape)\n",
    "train[:5]"
   ]
  },
  {
   "cell_type": "markdown",
   "metadata": {
    "colab_type": "text",
    "id": "iyMduGTxkgC4"
   },
   "source": [
    "**Initial Data Exploration:** We see that there are 1,306,122 rows in our training data, each containing a Question ID, Question Text, and an indicator of whether the question was classified as sincere (0) or insincere (1). We can do additional exploration into the differences between these classes, based on our training data."
   ]
  },
  {
   "cell_type": "code",
   "execution_count": 3,
   "metadata": {
    "colab": {
     "base_uri": "https://localhost:8080/",
     "height": 68
    },
    "colab_type": "code",
    "id": "ZiiVrR0BaZSe",
    "outputId": "fa7e75c9-542a-4677-8a25-97e6bc1bdfae"
   },
   "outputs": [
    {
     "data": {
      "text/plain": [
       "0    1225312\n",
       "1      80810\n",
       "Name: target, dtype: int64"
      ]
     },
     "execution_count": 3,
     "metadata": {},
     "output_type": "execute_result"
    }
   ],
   "source": [
    "## target count\n",
    "cnt = train.target.value_counts()\n",
    "cnt"
   ]
  },
  {
   "cell_type": "code",
   "execution_count": 4,
   "metadata": {
    "colab": {
     "base_uri": "https://localhost:8080/",
     "height": 301
    },
    "colab_type": "code",
    "id": "gwY41vo8mc3k",
    "outputId": "f9248ee4-222d-49f3-87f9-efde547b7d1d"
   },
   "outputs": [
    {
     "data": {
      "image/png": "[encoded data removed]",
      "text/plain": [
       "<Figure size 432x288 with 1 Axes>"
      ]
     },
     "metadata": {},
     "output_type": "display_data"
    }
   ],
   "source": [
    "## Create a bar plot of the number of insincere vs sincere questions\n",
    "sns.set(style=\"darkgrid\")\n",
    "ax = sns.countplot(x=\"target\", data=train).set_title('Target Count')"
   ]
  },
  {
   "cell_type": "code",
   "execution_count": 5,
   "metadata": {
    "colab": {
     "base_uri": "https://localhost:8080/",
     "height": 34
    },
    "colab_type": "code",
    "id": "35sCpBr8aZSh",
    "outputId": "547db9bc-e629-4b12-b1d8-5a1d70656a02"
   },
   "outputs": [
    {
     "data": {
      "text/plain": [
       "0.06187017751787352"
      ]
     },
     "execution_count": 5,
     "metadata": {},
     "output_type": "execute_result"
    }
   ],
   "source": [
    "## Find the percentage of insincere questions in our dataset\n",
    "len(train[train.target==1])/len(train.question_text) "
   ]
  },
  {
   "cell_type": "markdown",
   "metadata": {
    "colab_type": "text",
    "id": "63udGkdraZSm"
   },
   "source": [
    "This is very imbalanced data. Only 6% of the training population questions are insincere questions. When building model, we might need to consider the following options to create more balanced data,\n",
    " \n",
    "\n",
    "*   Undersampling\n",
    "*   Supplement our data with synthetic or fake insincere questions (~20%) [Reference: Snorkel.org](https://www.snorkel.org/get-started/)\n",
    "*   Remove some of the sincere questions (~20-30%) - this will also help make running code more managable\n",
    "* To make our training data more manageable, we can reserve some of the labelled training data for testing to determine how well our model is labelling the questions\n",
    "\n",
    "\n"
   ]
  },
  {
   "cell_type": "markdown",
   "metadata": {
    "colab_type": "text",
    "id": "xfgcH8B9rzNH"
   },
   "source": [
    "**Accuracy of Labels:** We see that some of the labels do not agree with our own intuition. For example, a question containing the text \"Have you licked the skin of a corpse?\" (Question ID 0000bc0f62500f55959f) has been labelled as sincere. If enough questions have been mis-labeled, there is potential that this could affect the accuracy of our model. "
   ]
  },
  {
   "cell_type": "markdown",
   "metadata": {
    "colab_type": "text",
    "id": "w4xMBWHfjwNo"
   },
   "source": [
    "**Explore Differences in Classes:** Now we try to compare the classes on several factors including,\n",
    "\n",
    "1. Question Length - how many words are included in the question?\n",
    "2. Punctuation - are there differences in the amount of punctuation marks included in a sincere vs. insincere question?\n",
    "3. Word Case - how many uppercased words are included in the question?\n",
    "4. Average Word Length - what is the average length of words included in the question?\n",
    "\n",
    "\n"
   ]
  },
  {
   "cell_type": "code",
   "execution_count": 6,
   "metadata": {
    "colab": {},
    "colab_type": "code",
    "id": "GjMYY84VaZSn"
   },
   "outputs": [],
   "source": [
    "## Generate some new variables to help understand our questions\n",
    "\n",
    "# Number of words in each class\n",
    "train['num_words'] = train['question_text'].apply(lambda x: len(str(x).split()))\n",
    "\n",
    "# Number of punctuation marks in each class\n",
    "train['num_punc'] = train['question_text'].apply(lambda x: len([i for i in str(x) if i in string.punctuation]))\n",
    "\n",
    "# Number of uppercase words in each class\n",
    "train['num_words_upper'] = train['question_text'].apply(lambda x: len([i for i in str(x).split() if (i.isupper())&(len(i)>1)]))\n",
    "\n",
    "# Average Word length in Questions\n",
    "#words = train['question_text'].split()\n",
    "#train['average_word_len'] = sum(len(word) for word in words) / len(words)\n",
    "\n",
    "## Truncate some extreme values for better visuals ##\n",
    "train['num_words'].loc[train['num_words']>60] = 60 #truncation for better visuals\n",
    "train['num_punc'].loc[train['num_punc']>10] = 10 #truncation for better visuals\n"
   ]
  },
  {
   "cell_type": "code",
   "execution_count": 7,
   "metadata": {
    "colab": {
     "base_uri": "https://localhost:8080/",
     "height": 1000
    },
    "colab_type": "code",
    "id": "cr6tp_qyaZSp",
    "outputId": "90a251fb-e8b0-45fc-f245-4b97762adaa0"
   },
   "outputs": [
    {
     "data": {
      "image/png": "[encoded data removed]",
      "text/plain": [
       "<Figure size 720x1440 with 3 Axes>"
      ]
     },
     "metadata": {},
     "output_type": "display_data"
    }
   ],
   "source": [
    "f, axes = plt.subplots(3,1, figsize=(10,20))\n",
    "sns.boxplot(x='target', y = 'num_words', data = train, ax=axes[0])\n",
    "axes[0].set_xlabel('Question Class: Sincere vs Insincere', fontsize=12)\n",
    "axes[0].set_ylabel('Number of Words in a Question', fontsize=12)\n",
    "axes[0].set_title(\"Number of words by class (Sincere vs Insincere)\", fontsize=15)\n",
    "\n",
    "sns.boxplot(x='target', y = 'num_punc', data= train, ax=axes[1])\n",
    "axes[1].set_xlabel('Question Class: Sincere vs Insincere', fontsize=12)\n",
    "axes[1].set_ylabel('Count of Punctuation Marks in a Question', fontsize=12)\n",
    "axes[1].set_title(\"Count of Punctuation Marks by class (Sincere vs Insincere)\", fontsize=15)\n",
    "\n",
    "sns.boxplot(x='target', y='num_words_upper', data=train, ax=axes[2])\n",
    "axes[2].set_xlabel('Question Class: Sincere vs Insincere', fontsize=12)\n",
    "axes[2].set_ylabel('Count of Uppercased Words in a Question', fontsize=12)\n",
    "axes[2].set_title(\"Number of uppercased words by class (Sincere vs Insincere)\", fontsize=15)\n",
    "plt.show()"
   ]
  },
  {
   "cell_type": "markdown",
   "metadata": {
    "colab_type": "text",
    "id": "iplqT8HLaZSr"
   },
   "source": [
    "From these plots, we notice insincere questions tend to have more words and more punctuations, they are also more likely to have upper words."
   ]
  },
  {
   "cell_type": "code",
   "execution_count": 8,
   "metadata": {
    "colab": {},
    "colab_type": "code",
    "id": "fn2ecms8aZSs"
   },
   "outputs": [],
   "source": [
    "## custom function for ngram generation ##\n",
    "def generate_ngrams(text, n_gram=1):\n",
    "    text = text.translate(str.maketrans('', '', string.punctuation))\n",
    "    token = [token for token in text.lower().split(\" \") if (token != \"\") & (token not in stopwords.words('english'))]\n",
    "    ngrams = zip(*[token[i:] for i in range(n_gram)])\n",
    "    return [\" \".join(ngram) for ngram in ngrams]\n",
    "\n",
    "## sincere question\n",
    "good = train[train.target==0]\n",
    "bad = train[train.target==1]"
   ]
  },
  {
   "cell_type": "code",
   "execution_count": 9,
   "metadata": {
    "colab": {},
    "colab_type": "code",
    "id": "QnNaJ3YPaZSt"
   },
   "outputs": [],
   "source": [
    "### One Word\n",
    "from collections import defaultdict\n",
    "freq_dict = defaultdict(int)\n",
    "for q in good[\"question_text\"][1:60000]:\n",
    "    for word in generate_ngrams(q):\n",
    "        freq_dict[word] += 1\n",
    "\n",
    "good_sorted = pd.DataFrame(sorted(freq_dict.items(), key=lambda x:x[1], reverse=True))[0:20]\n",
    "good_sorted.columns = [\"word\", \"wordcount\"]\n",
    "\n",
    "freq_dict = defaultdict(int)\n",
    "for q in bad[\"question_text\"]:\n",
    "    for word in generate_ngrams(q):\n",
    "        freq_dict[word] += 1\n",
    "bad_sorted = pd.DataFrame(sorted(freq_dict.items(), key=lambda x: x[1], reverse=True))[0:20]\n",
    "bad_sorted.columns = [\"word\", \"wordcount\"]"
   ]
  },
  {
   "cell_type": "code",
   "execution_count": 10,
   "metadata": {
    "colab": {
     "base_uri": "https://localhost:8080/",
     "height": 301
    },
    "colab_type": "code",
    "id": "Aj1qFdUtaZSv",
    "outputId": "949961e5-0aa7-4e1c-dd8e-046abaad5e6e"
   },
   "outputs": [
    {
     "data": {
      "text/plain": [
       "Text(0.5, 1.0, 'Frequent Words For Sincere Questions')"
      ]
     },
     "execution_count": 10,
     "metadata": {},
     "output_type": "execute_result"
    },
    {
     "data": {
      "image/png": "[encoded data removed]",
      "text/plain": [
       "<Figure size 432x288 with 1 Axes>"
      ]
     },
     "metadata": {},
     "output_type": "display_data"
    }
   ],
   "source": [
    "plt.barh(good_sorted.word[::-1], good_sorted.wordcount[::-1])\n",
    "plt.title('Frequent Words For Sincere Questions')"
   ]
  },
  {
   "cell_type": "code",
   "execution_count": 11,
   "metadata": {
    "colab": {
     "base_uri": "https://localhost:8080/",
     "height": 301
    },
    "colab_type": "code",
    "id": "S2qvJEy60fik",
    "outputId": "c0268257-898f-4b4b-a010-8282ba0cf5b2"
   },
   "outputs": [
    {
     "data": {
      "text/plain": [
       "Text(0.5, 1.0, 'Frequent Words For Insincere Questions')"
      ]
     },
     "execution_count": 11,
     "metadata": {},
     "output_type": "execute_result"
    },
    {
     "data": {
      "image/png": "[encoded data removed]",
      "text/plain": [
       "<Figure size 432x288 with 1 Axes>"
      ]
     },
     "metadata": {},
     "output_type": "display_data"
    }
   ],
   "source": [
    "plt.barh(bad_sorted.word[::-1], bad_sorted.wordcount[::-1])\n",
    "plt.title('Frequent Words For Insincere Questions')"
   ]
  },
  {
   "cell_type": "markdown",
   "metadata": {
    "colab_type": "text",
    "id": "QfQ5ogDraZSw"
   },
   "source": [
    "**Observations:**\n",
    "\n",
    "- The top words in the sincere questions include 'best', 'good', 'would' etc. - this seems to suggest that people are often looking for recommendations in sincere questions  \n",
    "- The top words in the insincere questions include 'trump', 'women', 'white' etc. - this may suggest that many of the insincere questions are racially or politically charged.\n",
    "- There are some words, including 'think', 'many', 'people' and 'would' that show up often in both sincere and insincere questions. The presence of these words likely won't be helpful in classifiying questions as sincere or insincere\n"
   ]
  },
  {
   "cell_type": "markdown",
   "metadata": {
    "colab_type": "text",
    "id": "d5mR7zry7cKf"
   },
   "source": [
    "### 2.Data Augmentation\n",
    "\n",
    "Data Augmentation is a good way to mitigate imbalance problem. There are several approaches:      \n",
    "(1) Tokenize texts into sentences, shuffling those sentences and rejoin them to generate new texts.    \n",
    "(2) Synonym Replacement: Randomly choose n words from the sentence that are not stop words. Replace each of these words with one of its synonyms chosen at random.   \n",
    "\n",
    "##### Approach One"
   ]
  },
  {
   "cell_type": "code",
   "execution_count": 12,
   "metadata": {
    "colab": {
     "base_uri": "https://localhost:8080/",
     "height": 102
    },
    "colab_type": "code",
    "id": "cHi8QKD0qwRI",
    "outputId": "918c7918-91f9-4b9d-8a1e-ba7ee6632cdd"
   },
   "outputs": [
    {
     "name": "stderr",
     "output_type": "stream",
     "text": [
      "[nltk_data] Downloading package punkt to /Users/siyaopeng/nltk_data...\n",
      "[nltk_data]   Package punkt is already up-to-date!\n",
      "[nltk_data] Downloading package wordnet to\n",
      "[nltk_data]     /Users/siyaopeng/nltk_data...\n",
      "[nltk_data]   Package wordnet is already up-to-date!\n"
     ]
    },
    {
     "data": {
      "text/plain": [
       "True"
      ]
     },
     "execution_count": 12,
     "metadata": {},
     "output_type": "execute_result"
    }
   ],
   "source": [
    "import nltk\n",
    "nltk.download('punkt')\n",
    "nltk.download('wordnet')"
   ]
  },
  {
   "cell_type": "code",
   "execution_count": 13,
   "metadata": {
    "colab": {
     "base_uri": "https://localhost:8080/",
     "height": 34
    },
    "colab_type": "code",
    "id": "B7-inlwRqEH7",
    "outputId": "43294b46-d1c0-48c1-87f9-73a748a9cbb0"
   },
   "outputs": [
    {
     "data": {
      "text/plain": [
       "15172"
      ]
     },
     "execution_count": 13,
     "metadata": {},
     "output_type": "execute_result"
    }
   ],
   "source": [
    "from nltk import sent_tokenize\n",
    "import random\n",
    "def tokenize(text):\n",
    "    '''text: list of text documents'''\n",
    "    tokenized =  sent_tokenize(text)\n",
    "    return tokenized\n",
    "\n",
    "augmented = []\n",
    "\n",
    "random.seed(1)\n",
    "for ng_rev in train[train.target==1]['question_text']:\n",
    "    tok = tokenize(ng_rev)\n",
    "    n = len(tok)\n",
    "    while n > 1:\n",
    "        random.shuffle(tok)\n",
    "        new_rev = ' '.join(tok)\n",
    "        if new_rev != ng_rev and new_rev not in augmented :           \n",
    "            augmented.append(new_rev)\n",
    "        n -= 1\n",
    "len(augmented)"
   ]
  },
  {
   "cell_type": "markdown",
   "metadata": {
    "colab_type": "text",
    "id": "ji_fyRboqS7I"
   },
   "source": [
    "In this step, 15171 questions are created."
   ]
  },
  {
   "cell_type": "code",
   "execution_count": 14,
   "metadata": {
    "colab": {},
    "colab_type": "code",
    "id": "NUqEgRamqnWX"
   },
   "outputs": [],
   "source": [
    "from nltk.corpus import wordnet\n",
    "\n",
    "### randomly replace two words with their synonyms in a question\n",
    "augmented2 = []\n",
    "random.seed(0)\n",
    "for ng_rev in train[train.target==1]['question_text']:\n",
    "    words = str(ng_rev).split()  \n",
    "    r2 = random.sample(range(0, len(words)), 1)\n",
    "    for i in r2:\n",
    "        syns = wordnet.synsets(words[i])\n",
    "        if len(syns)>1:\n",
    "            words[i] = [s.name() for s in syns][1].split('.')[0]  \n",
    "    augmented2.append(' '.join(words))\n",
    "\n",
    "### randomly replace four words with their synonyms in a question\n",
    "augmented3 = []\n",
    "random.seed(0)\n",
    "for ng_rev in train[train.target==1]['question_text']:\n",
    "    words = str(ng_rev).split()  \n",
    "    if len(words)>=3:\n",
    "        r3 = random.sample(range(0, len(words)), 3)\n",
    "        for i in r3:\n",
    "            syns = wordnet.synsets(words[i])\n",
    "            if len(syns)>1:\n",
    "                words[i] = [s.name() for s in syns][1].split('.')[0]  \n",
    "        augmented3.append(' '.join(words))\n",
    "\n",
    "### randomly replace five words with their synonyms in a question\n",
    "augmented4 = []\n",
    "random.seed(0)\n",
    "for ng_rev in train[train.target==1]['question_text']:\n",
    "    words = str(ng_rev).split()  \n",
    "    if len(words)>=5:\n",
    "        r5 = random.sample(range(0, len(words)), 5)\n",
    "        for i in r5:\n",
    "            syns = wordnet.synsets(words[i])\n",
    "            if len(syns)>1:\n",
    "                words[i] = [s.name() for s in syns][1].split('.')[0]  \n",
    "        augmented4.append(' '.join(words))"
   ]
  },
  {
   "cell_type": "code",
   "execution_count": 15,
   "metadata": {
    "colab": {
     "base_uri": "https://localhost:8080/",
     "height": 34
    },
    "colab_type": "code",
    "id": "fFWT2wqYt_R7",
    "outputId": "7a91fc2f-5c55-4d5a-a3e6-fa476628932c"
   },
   "outputs": [
    {
     "data": {
      "text/plain": [
       "241133"
      ]
     },
     "execution_count": 15,
     "metadata": {},
     "output_type": "execute_result"
    }
   ],
   "source": [
    "len(augmented2+augmented3+augmented4)"
   ]
  },
  {
   "cell_type": "markdown",
   "metadata": {
    "colab_type": "text",
    "id": "bVtRPFBHzBOu"
   },
   "source": [
    "In approach two 232047 questions are created."
   ]
  },
  {
   "cell_type": "code",
   "execution_count": 16,
   "metadata": {
    "colab": {
     "base_uri": "https://localhost:8080/",
     "height": 34
    },
    "colab_type": "code",
    "id": "AmShDEbVuNI3",
    "outputId": "73677d63-f5fa-40cf-9386-b14979884b5c"
   },
   "outputs": [
    {
     "data": {
      "text/plain": [
       "(256305, 2)"
      ]
     },
     "execution_count": 16,
     "metadata": {},
     "output_type": "execute_result"
    }
   ],
   "source": [
    "aug = augmented + augmented2 + augmented3 +augmented4\n",
    "label=[1]*len(aug)\n",
    "fakedf = pd.DataFrame({'question_text':aug, 'target': label})\n",
    "fakedf.shape"
   ]
  },
  {
   "cell_type": "markdown",
   "metadata": {
    "colab_type": "text",
    "id": "sm8LU2muuBbe"
   },
   "source": [
    "Now we do the following processing:     \n",
    "(1) remove sincere questions which are too short or too long;    \n",
    "(2) combine the given dataset and fake dataset together, only keep 'question_text' and 'target' two features.      \n",
    "(3) remove duplicate questions."
   ]
  },
  {
   "cell_type": "code",
   "execution_count": 17,
   "metadata": {
    "colab": {
     "base_uri": "https://localhost:8080/",
     "height": 34
    },
    "colab_type": "code",
    "id": "x1pbDcQtxq9s",
    "outputId": "fc071fd6-bea0-4856-ee10-e6f2e90d8160"
   },
   "outputs": [
    {
     "data": {
      "text/plain": [
       "(1046016, 7)"
      ]
     },
     "execution_count": 17,
     "metadata": {},
     "output_type": "execute_result"
    }
   ],
   "source": [
    "# delete sincere questions which have less than 8 words or more than 35 words:\n",
    "dtrain = train.drop(train[(train.target==0) & ((train.num_words<8) | (train.num_words>35))].index).reset_index()\n",
    "dtrain.shape"
   ]
  },
  {
   "cell_type": "code",
   "execution_count": 18,
   "metadata": {
    "colab": {
     "base_uri": "https://localhost:8080/",
     "height": 34
    },
    "colab_type": "code",
    "id": "_hkozyxDvJ5q",
    "outputId": "5006ec1b-6602-423f-d4a9-aba296af4dba"
   },
   "outputs": [
    {
     "data": {
      "text/plain": [
       "(1135502, 2)"
      ]
     },
     "execution_count": 18,
     "metadata": {},
     "output_type": "execute_result"
    }
   ],
   "source": [
    "data = dtrain[['question_text','target']].append(fakedf)\n",
    "data = data.drop_duplicates(keep=False)\n",
    "data.shape"
   ]
  },
  {
   "cell_type": "code",
   "execution_count": 19,
   "metadata": {
    "colab": {
     "base_uri": "https://localhost:8080/",
     "height": 34
    },
    "colab_type": "code",
    "id": "E-xDCUHruUbq",
    "outputId": "a47f6754-0739-4710-d772-36785161f97e"
   },
   "outputs": [
    {
     "data": {
      "text/plain": [
       "0.14997419643470464"
      ]
     },
     "execution_count": 19,
     "metadata": {},
     "output_type": "execute_result"
    }
   ],
   "source": [
    "len(data[data.target==1])/len(data.question_text) "
   ]
  },
  {
   "cell_type": "markdown",
   "metadata": {
    "colab_type": "text",
    "id": "OmG56W2E0J6I"
   },
   "source": [
    "Finally, insincere questions account for 15%."
   ]
  },
  {
   "cell_type": "code",
   "execution_count": 22,
   "metadata": {},
   "outputs": [],
   "source": [
    "data.to_csv('aug_data.csv')"
   ]
  },
  {
   "cell_type": "markdown",
   "metadata": {},
   "source": [
    "Considering computation limit, I will randomly remove 400000 questions which are classified as sincere questions. This also helps mitigate imbalance problem."
   ]
  },
  {
   "cell_type": "code",
   "execution_count": 11,
   "metadata": {},
   "outputs": [],
   "source": [
    "np.random.seed(0)\n",
    "drop_indices = np.random.choice(data[data.target==0].index, 400000, replace=False)\n",
    "clean_data = data.drop(drop_indices)\n",
    "clean_data.to_csv('clean_data.csv')"
   ]
  },
  {
   "cell_type": "code",
   "execution_count": 14,
   "metadata": {},
   "outputs": [
    {
     "data": {
      "text/plain": [
       "0    565206\n",
       "1    170296\n",
       "Name: target, dtype: int64"
      ]
     },
     "execution_count": 14,
     "metadata": {},
     "output_type": "execute_result"
    }
   ],
   "source": [
    "clean_data.target.value_counts()"
   ]
  }
 ],
 "metadata": {
  "colab": {
   "collapsed_sections": [],
   "name": "Exploratory.ipynb",
   "provenance": [],
   "toc_visible": true
  },
  "kernelspec": {
   "display_name": "Python 3",
   "language": "python",
   "name": "python3"
  },
  "language_info": {
   "codemirror_mode": {
    "name": "ipython",
    "version": 3
   },
   "file_extension": ".py",
   "mimetype": "text/x-python",
   "name": "python",
   "nbconvert_exporter": "python",
   "pygments_lexer": "ipython3",
   "version": "3.7.4"
  }
 },
 "nbformat": 4,
 "nbformat_minor": 1
}
