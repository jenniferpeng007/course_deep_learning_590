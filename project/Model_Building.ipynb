{
 "cells": [
  {
   "cell_type": "code",
   "execution_count": 122,
   "metadata": {},
   "outputs": [],
   "source": [
    "import pandas as pd\n",
    "import numpy as np\n",
    "\n",
    "from keras import backend as K\n",
    "\n",
    "from keras.preprocessing.text import Tokenizer\n",
    "from keras.preprocessing.sequence import pad_sequences\n",
    "\n",
    "from keras.models import Sequential, Model\n",
    "from keras.layers import Input, Dense, Flatten, Conv1D, Conv2D, MaxPooling2D, UpSampling2D, Dropout, MaxPooling1D, Bidirectional\n",
    "from keras.layers import LSTM, Embedding\n",
    "from keras.optimizers import RMSprop\n",
    "from keras.utils import np_utils\n",
    "from keras.callbacks import EarlyStopping  \n",
    "\n",
    "from sklearn.model_selection import train_test_split\n",
    "from sklearn.metrics import roc_curve\n",
    "\n",
    "import seaborn as sns\n",
    "import numpy as np\n",
    "import matplotlib.pyplot as plt\n",
    "%matplotlib inline"
   ]
  },
  {
   "cell_type": "code",
   "execution_count": 7,
   "metadata": {},
   "outputs": [],
   "source": [
    "df = pd.read_csv('clean_data_after_embedding.csv')"
   ]
  },
  {
   "cell_type": "code",
   "execution_count": 8,
   "metadata": {},
   "outputs": [
    {
     "data": {
      "text/html": [
       "<div>\n",
       "<style scoped>\n",
       "    .dataframe tbody tr th:only-of-type {\n",
       "        vertical-align: middle;\n",
       "    }\n",
       "\n",
       "    .dataframe tbody tr th {\n",
       "        vertical-align: top;\n",
       "    }\n",
       "\n",
       "    .dataframe thead th {\n",
       "        text-align: right;\n",
       "    }\n",
       "</style>\n",
       "<table border=\"1\" class=\"dataframe\">\n",
       "  <thead>\n",
       "    <tr style=\"text-align: right;\">\n",
       "      <th></th>\n",
       "      <th>treated_question</th>\n",
       "      <th>target</th>\n",
       "    </tr>\n",
       "  </thead>\n",
       "  <tbody>\n",
       "    <tr>\n",
       "      <td>0</td>\n",
       "      <td>Do you have an adopted dog ,  how would you en...</td>\n",
       "      <td>0</td>\n",
       "    </tr>\n",
       "    <tr>\n",
       "      <td>1</td>\n",
       "      <td>Why does velocity affect time ?  Does velocity...</td>\n",
       "      <td>0</td>\n",
       "    </tr>\n",
       "    <tr>\n",
       "      <td>2</td>\n",
       "      <td>How did Otto von Guericke used the Magdeburg h...</td>\n",
       "      <td>0</td>\n",
       "    </tr>\n",
       "    <tr>\n",
       "      <td>3</td>\n",
       "      <td>Can I convert montra helicon D to a mountain b...</td>\n",
       "      <td>0</td>\n",
       "    </tr>\n",
       "    <tr>\n",
       "      <td>4</td>\n",
       "      <td>What is the dumbest ,  yet possibly true expla...</td>\n",
       "      <td>0</td>\n",
       "    </tr>\n",
       "  </tbody>\n",
       "</table>\n",
       "</div>"
      ],
      "text/plain": [
       "                                    treated_question  target\n",
       "0  Do you have an adopted dog ,  how would you en...       0\n",
       "1  Why does velocity affect time ?  Does velocity...       0\n",
       "2  How did Otto von Guericke used the Magdeburg h...       0\n",
       "3  Can I convert montra helicon D to a mountain b...       0\n",
       "4  What is the dumbest ,  yet possibly true expla...       0"
      ]
     },
     "execution_count": 8,
     "metadata": {},
     "output_type": "execute_result"
    }
   ],
   "source": [
    "df.head(5)"
   ]
  },
  {
   "cell_type": "markdown",
   "metadata": {},
   "source": [
    "#### Prepare dataset for model\n",
    "\n",
    "Tokenizer allows to vectorize a text corpus, by turning each text into a sequence of integers (each integer being the index of a token in a dictionary) where the coefficient for each token could be binary, based on word count, based on tf-idf. num_words: the maximum number of words to keep, based on word frequency. \n"
   ]
  },
  {
   "cell_type": "code",
   "execution_count": 14,
   "metadata": {},
   "outputs": [],
   "source": [
    "# --- Loading text and labels ----\n",
    "x = df.treated_question.values\n",
    "y = df.target.values"
   ]
  },
  {
   "cell_type": "code",
   "execution_count": 15,
   "metadata": {},
   "outputs": [
    {
     "name": "stdout",
     "output_type": "stream",
     "text": [
      "Found 131447 unique tokens in the texts.\n",
      "Shape of data tensor: (735502, 60)\n",
      "Shape of label: (735502,)\n"
     ]
    }
   ],
   "source": [
    "# tokenize\n",
    "max_word_len = 90000   # the maximum number of words to keep, based on word frequency.\n",
    "max_len = 60  # max number of words in a question to use\n",
    "\n",
    "tokenizer = Tokenizer(num_words=max_word_len)\n",
    "tokenizer.fit_on_texts(x)\n",
    "sequences = tokenizer.texts_to_sequences(x)\n",
    "x = pad_sequences(sequences, maxlen=max_len)  # Padding sequences \n",
    "\n",
    "word_index = tokenizer.word_index\n",
    "\n",
    "print('Found {w} unique tokens in the texts.'.format(w=len(word_index)))\n",
    "print('Shape of data tensor:', x.shape)\n",
    "print('Shape of label:', y.shape)"
   ]
  },
  {
   "cell_type": "markdown",
   "metadata": {},
   "source": [
    "#### Split dataset"
   ]
  },
  {
   "cell_type": "code",
   "execution_count": 17,
   "metadata": {},
   "outputs": [],
   "source": [
    "x_train, x_test, y_train, y_test = train_test_split(x, y, test_size=0.20, random_state=1)"
   ]
  },
  {
   "cell_type": "markdown",
   "metadata": {},
   "source": [
    "#### Create model"
   ]
  },
  {
   "cell_type": "markdown",
   "metadata": {},
   "source": [
    "Our model will have one input layer, one embedding layer, one LSTM layer with 128 neurons and one output layer with 1 neurons since we have 2 labels in the output.\n",
    "\n",
    "First, use GloVe word embeddings to convert text inputs to their numeric counterparts."
   ]
  },
  {
   "cell_type": "code",
   "execution_count": 30,
   "metadata": {},
   "outputs": [],
   "source": [
    "#### Embeddings\n",
    "def load_embed(file):\n",
    "    def get_coefs(word,*arr): \n",
    "        return word, np.asarray(arr, dtype='float32')   \n",
    "    embeddings_index = dict(get_coefs(*line.split(\" \")) for line in open(file, encoding='utf8'))       \n",
    "    return embeddings_index\n",
    "\n",
    "embeddings_dictionary = load_embed(\"glove.840B.300d.txt\")"
   ]
  },
  {
   "cell_type": "code",
   "execution_count": 33,
   "metadata": {},
   "outputs": [
    {
     "data": {
      "text/plain": [
       "131447"
      ]
     },
     "execution_count": 33,
     "metadata": {},
     "output_type": "execute_result"
    }
   ],
   "source": [
    "len(word_index)"
   ]
  },
  {
   "cell_type": "code",
   "execution_count": 43,
   "metadata": {},
   "outputs": [],
   "source": [
    "embedding_matrix = np.zeros((max_word_len, 300))\n",
    "\n",
    "for word, index in word_index.items():\n",
    "    if index >= max_word_len:\n",
    "        continue\n",
    "    embedding_vector = embeddings_dictionary.get(word)\n",
    "    if embedding_vector is not None: \n",
    "        embedding_matrix[index] = embedding_vector"
   ]
  },
  {
   "cell_type": "code",
   "execution_count": 44,
   "metadata": {},
   "outputs": [
    {
     "name": "stdout",
     "output_type": "stream",
     "text": [
      "Found 90000 word vectors.\n"
     ]
    }
   ],
   "source": [
    "print('Found {} word vectors.'.format(len(embedding_matrix)))"
   ]
  },
  {
   "cell_type": "code",
   "execution_count": 45,
   "metadata": {},
   "outputs": [
    {
     "data": {
      "text/plain": [
       "(90000, 300)"
      ]
     },
     "execution_count": 45,
     "metadata": {},
     "output_type": "execute_result"
    }
   ],
   "source": [
    "embedding_matrix.shape"
   ]
  },
  {
   "cell_type": "code",
   "execution_count": 76,
   "metadata": {},
   "outputs": [],
   "source": [
    "# define the model\n",
    "inp    = Input(shape=(max_len,))\n",
    "x      = Embedding(max_word_len, 300, weights=[embedding_matrix], input_length=max_len, trainable=False)(inp) #distinct word length, embedding size, sentence length\n",
    "x      = LSTM(128)(x)\n",
    "x      = Dense(64, activation=\"relu\")(x)\n",
    "x      = Dropout(0.3)(x)\n",
    "x      = Dense(32, activation=\"relu\")(x)\n",
    "x = Dense(1, activation=\"sigmoid\")(x)\n",
    "\n",
    "lstm_model  = Model(inputs=inp, outputs=x)"
   ]
  },
  {
   "cell_type": "code",
   "execution_count": 77,
   "metadata": {},
   "outputs": [
    {
     "name": "stdout",
     "output_type": "stream",
     "text": [
      "Model: \"model_12\"\n",
      "_________________________________________________________________\n",
      "Layer (type)                 Output Shape              Param #   \n",
      "=================================================================\n",
      "input_21 (InputLayer)        (None, 60)                0         \n",
      "_________________________________________________________________\n",
      "embedding_19 (Embedding)     (None, 60, 300)           27000000  \n",
      "_________________________________________________________________\n",
      "lstm_17 (LSTM)               (None, 128)               219648    \n",
      "_________________________________________________________________\n",
      "dense_24 (Dense)             (None, 64)                8256      \n",
      "_________________________________________________________________\n",
      "dropout_11 (Dropout)         (None, 64)                0         \n",
      "_________________________________________________________________\n",
      "dense_25 (Dense)             (None, 32)                2080      \n",
      "_________________________________________________________________\n",
      "dense_26 (Dense)             (None, 1)                 33        \n",
      "=================================================================\n",
      "Total params: 27,230,017\n",
      "Trainable params: 230,017\n",
      "Non-trainable params: 27,000,000\n",
      "_________________________________________________________________\n",
      "None\n"
     ]
    }
   ],
   "source": [
    "print(lstm_model.summary())"
   ]
  },
  {
   "cell_type": "code",
   "execution_count": 79,
   "metadata": {},
   "outputs": [],
   "source": [
    "# define f1 score\n",
    "def recall_m(y_true, y_pred):\n",
    "        true_positives = K.sum(K.round(K.clip(y_true * y_pred, 0, 1)))\n",
    "        possible_positives = K.sum(K.round(K.clip(y_true, 0, 1)))\n",
    "        recall = true_positives / (possible_positives + K.epsilon())\n",
    "        return recall\n",
    "\n",
    "def precision_m(y_true, y_pred):\n",
    "        true_positives = K.sum(K.round(K.clip(y_true * y_pred, 0, 1)))\n",
    "        predicted_positives = K.sum(K.round(K.clip(y_pred, 0, 1)))\n",
    "        precision = true_positives / (predicted_positives + K.epsilon())\n",
    "        return precision\n",
    "\n",
    "def f1_m(y_true, y_pred):\n",
    "    precision = precision_m(y_true, y_pred)\n",
    "    recall = recall_m(y_true, y_pred)\n",
    "    return 2*((precision*recall)/(precision+recall+K.epsilon()))\n",
    "\n",
    "# compile the model\n",
    "lstm_model.compile(optimizer='adam', loss='binary_crossentropy', metrics=['acc',f1_m,precision_m, recall_m])"
   ]
  },
  {
   "cell_type": "code",
   "execution_count": 80,
   "metadata": {},
   "outputs": [
    {
     "name": "stdout",
     "output_type": "stream",
     "text": [
      "Train on 588401 samples, validate on 147101 samples\n",
      "Epoch 1/7\n",
      "588401/588401 [==============================] - 797s 1ms/step - loss: 0.1778 - acc: 0.9283 - f1_m: 0.8389 - precision_m: 0.8557 - recall_m: 0.8301 - val_loss: 0.1401 - val_acc: 0.9436 - val_f1_m: 0.8756 - val_precision_m: 0.8875 - val_recall_m: 0.8659\n",
      "Epoch 2/7\n",
      "588401/588401 [==============================] - 770s 1ms/step - loss: 0.1294 - acc: 0.9482 - f1_m: 0.8862 - precision_m: 0.8956 - recall_m: 0.8797 - val_loss: 0.1266 - val_acc: 0.9493 - val_f1_m: 0.8915 - val_precision_m: 0.8780 - val_recall_m: 0.9072\n",
      "Epoch 3/7\n",
      "588401/588401 [==============================] - 833s 1ms/step - loss: 0.1122 - acc: 0.9551 - f1_m: 0.9016 - precision_m: 0.9072 - recall_m: 0.8983 - val_loss: 0.1194 - val_acc: 0.9527 - val_f1_m: 0.8952 - val_precision_m: 0.9122 - val_recall_m: 0.8804\n",
      "Epoch 4/7\n",
      "588401/588401 [==============================] - 967s 2ms/step - loss: 0.0984 - acc: 0.9606 - f1_m: 0.9142 - precision_m: 0.9171 - recall_m: 0.9132 - val_loss: 0.1155 - val_acc: 0.9543 - val_f1_m: 0.8980 - val_precision_m: 0.9213 - val_recall_m: 0.8771\n",
      "Epoch 5/7\n",
      "588401/588401 [==============================] - 1028s 2ms/step - loss: 0.0864 - acc: 0.9655 - f1_m: 0.9247 - precision_m: 0.9257 - recall_m: 0.9253 - val_loss: 0.1111 - val_acc: 0.9559 - val_f1_m: 0.9048 - val_precision_m: 0.8985 - val_recall_m: 0.9127\n",
      "Epoch 6/7\n",
      "588401/588401 [==============================] - 1133s 2ms/step - loss: 0.0750 - acc: 0.9702 - f1_m: 0.9352 - precision_m: 0.9348 - recall_m: 0.9368 - val_loss: 0.1130 - val_acc: 0.9573 - val_f1_m: 0.9077 - val_precision_m: 0.9023 - val_recall_m: 0.9144\n",
      "Epoch 7/7\n",
      "588401/588401 [==============================] - 882s 1ms/step - loss: 0.0644 - acc: 0.9744 - f1_m: 0.9444 - precision_m: 0.9429 - recall_m: 0.9471 - val_loss: 0.1190 - val_acc: 0.9570 - val_f1_m: 0.9061 - val_precision_m: 0.9092 - val_recall_m: 0.9043\n"
     ]
    }
   ],
   "source": [
    "lstm_history = lstm_model.fit(x_train, y_train, batch_size=256, epochs=7, validation_data=(x_test, y_test))"
   ]
  },
  {
   "cell_type": "markdown",
   "metadata": {},
   "source": [
    "### Word Level 1D CNN"
   ]
  },
  {
   "cell_type": "code",
   "execution_count": 87,
   "metadata": {},
   "outputs": [
    {
     "name": "stdout",
     "output_type": "stream",
     "text": [
      "Model: \"model_14\"\n",
      "_________________________________________________________________\n",
      "Layer (type)                 Output Shape              Param #   \n",
      "=================================================================\n",
      "input_23 (InputLayer)        (None, 60)                0         \n",
      "_________________________________________________________________\n",
      "embedding_21 (Embedding)     (None, 60, 300)           27000000  \n",
      "_________________________________________________________________\n",
      "dropout_15 (Dropout)         (None, 60, 300)           0         \n",
      "_________________________________________________________________\n",
      "conv1d_5 (Conv1D)            (None, 58, 32)            28832     \n",
      "_________________________________________________________________\n",
      "max_pooling1d_5 (MaxPooling1 (None, 29, 32)            0         \n",
      "_________________________________________________________________\n",
      "dropout_16 (Dropout)         (None, 29, 32)            0         \n",
      "_________________________________________________________________\n",
      "conv1d_6 (Conv1D)            (None, 27, 32)            3104      \n",
      "_________________________________________________________________\n",
      "max_pooling1d_6 (MaxPooling1 (None, 13, 32)            0         \n",
      "_________________________________________________________________\n",
      "conv1d_7 (Conv1D)            (None, 11, 16)            1552      \n",
      "_________________________________________________________________\n",
      "max_pooling1d_7 (MaxPooling1 (None, 5, 16)             0         \n",
      "_________________________________________________________________\n",
      "flatten_2 (Flatten)          (None, 80)                0         \n",
      "_________________________________________________________________\n",
      "dense_29 (Dense)             (None, 200)               16200     \n",
      "_________________________________________________________________\n",
      "dropout_17 (Dropout)         (None, 200)               0         \n",
      "_________________________________________________________________\n",
      "dense_30 (Dense)             (None, 1)                 201       \n",
      "=================================================================\n",
      "Total params: 27,049,889\n",
      "Trainable params: 49,889\n",
      "Non-trainable params: 27,000,000\n",
      "_________________________________________________________________\n"
     ]
    }
   ],
   "source": [
    "# define the model\n",
    "inp = Input(shape=(max_len,))\n",
    "x   = Embedding(max_word_len, 300, weights=[embedding_matrix], input_length=max_len, trainable=False)(inp) #distinct word length, embedding size, sentence length\n",
    "x   = Dropout(0.3)(x)\n",
    "x = Conv1D(32, 3, padding='valid', activation='relu', strides=1)(x)\n",
    "x = MaxPooling1D()(x)\n",
    "x = Dropout(0.3)(x)\n",
    "x = Conv1D(32, 3, padding='valid', activation='relu', strides=1)(x)\n",
    "x = MaxPooling1D()(x)\n",
    "x = Conv1D(16, 3, padding='valid', activation='relu', strides=1)(x)\n",
    "x = MaxPooling1D()(x)\n",
    "x = Flatten()(x)\n",
    "x = Dense(200, activation=\"relu\")(x)\n",
    "x = Dropout(0.3)(x)\n",
    "predictions = Dense(1, activation='sigmoid')(x)\n",
    "cnn_model = Model(inputs=inp, outputs=predictions)\n",
    "cnn_model.compile(loss='binary_crossentropy', optimizer='adam', metrics=['acc', f1_m,precision_m, recall_m]) # Adam, categorical_crossentropy\n",
    "cnn_model.summary()"
   ]
  },
  {
   "cell_type": "code",
   "execution_count": 88,
   "metadata": {},
   "outputs": [
    {
     "name": "stdout",
     "output_type": "stream",
     "text": [
      "Train on 588401 samples, validate on 147101 samples\n",
      "Epoch 1/7\n",
      "588401/588401 [==============================] - 198s 336us/step - loss: 0.2689 - acc: 0.8931 - f1_m: 0.7483 - precision_m: 0.8060 - recall_m: 0.7097 - val_loss: 0.2362 - val_acc: 0.9085 - val_f1_m: 0.8006 - val_precision_m: 0.8032 - val_recall_m: 0.8009\n",
      "Epoch 2/7\n",
      "588401/588401 [==============================] - 184s 313us/step - loss: 0.2405 - acc: 0.9055 - f1_m: 0.7828 - precision_m: 0.8317 - recall_m: 0.7428 - val_loss: 0.2189 - val_acc: 0.9139 - val_f1_m: 0.8013 - val_precision_m: 0.8541 - val_recall_m: 0.7573\n",
      "Epoch 3/7\n",
      "588401/588401 [==============================] - 203s 344us/step - loss: 0.2331 - acc: 0.9082 - f1_m: 0.7899 - precision_m: 0.8360 - recall_m: 0.7519 - val_loss: 0.2174 - val_acc: 0.9157 - val_f1_m: 0.8092 - val_precision_m: 0.8438 - val_recall_m: 0.7800\n",
      "Epoch 4/7\n",
      "588401/588401 [==============================] - 194s 330us/step - loss: 0.2291 - acc: 0.9099 - f1_m: 0.7934 - precision_m: 0.8404 - recall_m: 0.7547 - val_loss: 0.2152 - val_acc: 0.9154 - val_f1_m: 0.8013 - val_precision_m: 0.8726 - val_recall_m: 0.7436\n",
      "Epoch 5/7\n",
      "588401/588401 [==============================] - 171s 291us/step - loss: 0.2264 - acc: 0.9106 - f1_m: 0.7957 - precision_m: 0.8403 - recall_m: 0.7588 - val_loss: 0.2122 - val_acc: 0.9163 - val_f1_m: 0.8038 - val_precision_m: 0.8728 - val_recall_m: 0.7475\n",
      "Epoch 6/7\n",
      "588401/588401 [==============================] - 737s 1ms/step - loss: 0.2250 - acc: 0.9113 - f1_m: 0.7969 - precision_m: 0.8426 - recall_m: 0.7589 - val_loss: 0.2125 - val_acc: 0.9169 - val_f1_m: 0.8051 - val_precision_m: 0.8742 - val_recall_m: 0.7487\n",
      "Epoch 7/7\n",
      "588401/588401 [==============================] - 223s 379us/step - loss: 0.2235 - acc: 0.9122 - f1_m: 0.7993 - precision_m: 0.8444 - recall_m: 0.7620 - val_loss: 0.2111 - val_acc: 0.9181 - val_f1_m: 0.8103 - val_precision_m: 0.8675 - val_recall_m: 0.7630\n"
     ]
    }
   ],
   "source": [
    "cnn_history = cnn_model.fit(x_train, y_train, batch_size=256, epochs=7, validation_data=(x_test, y_test))"
   ]
  },
  {
   "cell_type": "markdown",
   "metadata": {},
   "source": [
    "###  Bidirectional LSTM + Attention "
   ]
  },
  {
   "cell_type": "code",
   "execution_count": 120,
   "metadata": {},
   "outputs": [],
   "source": [
    "from keras_self_attention import SeqSelfAttention"
   ]
  },
  {
   "cell_type": "code",
   "execution_count": 147,
   "metadata": {},
   "outputs": [
    {
     "name": "stdout",
     "output_type": "stream",
     "text": [
      "Model: \"model_30\"\n",
      "_________________________________________________________________\n",
      "Layer (type)                 Output Shape              Param #   \n",
      "=================================================================\n",
      "input_46 (InputLayer)        (None, 60)                0         \n",
      "_________________________________________________________________\n",
      "embedding_43 (Embedding)     (None, 60, 300)           27000000  \n",
      "_________________________________________________________________\n",
      "bidirectional_20 (Bidirectio (None, 60, 128)           186880    \n",
      "_________________________________________________________________\n",
      "seq_self_attention_16 (SeqSe (None, 60, 128)           8257      \n",
      "_________________________________________________________________\n",
      "flatten_8 (Flatten)          (None, 7680)              0         \n",
      "_________________________________________________________________\n",
      "dense_53 (Dense)             (None, 8)                 61448     \n",
      "_________________________________________________________________\n",
      "dense_54 (Dense)             (None, 1)                 9         \n",
      "=================================================================\n",
      "Total params: 27,256,594\n",
      "Trainable params: 256,594\n",
      "Non-trainable params: 27,000,000\n",
      "_________________________________________________________________\n"
     ]
    }
   ],
   "source": [
    "# define the model\n",
    "inp = Input(shape=(max_len,))\n",
    "x = Embedding(max_word_len, 300, weights=[embedding_matrix], input_length=max_len, trainable=False)(inp) #distinct word length, embedding size, sentence length\n",
    "x = Bidirectional(keras.layers.LSTM(units=64,return_sequences=True))(x)\n",
    "x = SeqSelfAttention(attention_activation='sigmoid')(x)\n",
    "x = Flatten()(x)\n",
    "x = Dense(8, activation=\"sigmoid\")(x)\n",
    "x = Dense(1, activation=\"sigmoid\")(x)\n",
    "attention_model = Model(inputs=inp, outputs=x)\n",
    "attention_model.summary()"
   ]
  },
  {
   "cell_type": "code",
   "execution_count": 149,
   "metadata": {},
   "outputs": [
    {
     "name": "stdout",
     "output_type": "stream",
     "text": [
      "Train on 588401 samples, validate on 147101 samples\n",
      "Epoch 1/3\n",
      "588401/588401 [==============================] - 2129s 4ms/step - loss: 0.1688 - acc: 0.9349 - f1_m: 0.8566 - precision_m: 0.8705 - recall_m: 0.8473 - val_loss: 0.1397 - val_acc: 0.9448 - val_f1_m: 0.8753 - val_precision_m: 0.9110 - val_recall_m: 0.8441\n",
      "Epoch 2/3\n",
      "588401/588401 [==============================] - 2075s 4ms/step - loss: 0.1281 - acc: 0.9493 - f1_m: 0.8884 - precision_m: 0.8997 - recall_m: 0.8802 - val_loss: 0.1265 - val_acc: 0.9501 - val_f1_m: 0.8882 - val_precision_m: 0.9164 - val_recall_m: 0.8635\n",
      "Epoch 3/3\n",
      "588401/588401 [==============================] - 1815s 3ms/step - loss: 0.1115 - acc: 0.9559 - f1_m: 0.9033 - precision_m: 0.9110 - recall_m: 0.8980 - val_loss: 0.1197 - val_acc: 0.9530 - val_f1_m: 0.8988 - val_precision_m: 0.8905 - val_recall_m: 0.9089\n"
     ]
    }
   ],
   "source": [
    "attention_model.compile(loss='binary_crossentropy', optimizer='adam', metrics=['acc', f1_m,precision_m, recall_m])\n",
    "attention_history = attention_model.fit(x_train, y_train, batch_size=256, epochs=2, validation_data=(x_test, y_test))"
   ]
  },
  {
   "cell_type": "markdown",
   "metadata": {},
   "source": [
    "### Performance Comparison\n",
    "\n",
    "Due to computational ability, we only conducted three epochs for Bidirectional RNN+Attention model. "
   ]
  },
  {
   "cell_type": "code",
   "execution_count": 158,
   "metadata": {},
   "outputs": [
    {
     "data": {
      "image/png": "[encoded data removed]",
      "text/plain": [
       "<Figure size 432x288 with 1 Axes>"
      ]
     },
     "metadata": {
      "needs_background": "light"
     },
     "output_type": "display_data"
    }
   ],
   "source": [
    "plt.plot(lstm_history.history['val_f1_m'])\n",
    "plt.plot(cnn_history.history['val_f1_m'])\n",
    "plt.plot(attention_history.history['val_f1_m'])\n",
    "\n",
    "plt.title('LSTM vs. CNN vs. Attention on F1 Score')\n",
    "plt.ylabel('F1 Score')\n",
    "plt.xlabel('epoch')\n",
    "plt.legend(['LSTM','CNN', 'Bidirectional RNN+Attention'], loc='best')\n",
    "plt.show()"
   ]
  },
  {
   "cell_type": "code",
   "execution_count": 161,
   "metadata": {},
   "outputs": [
    {
     "data": {
      "image/png": "[encoded data removed]",
      "text/plain": [
       "<Figure size 432x288 with 1 Axes>"
      ]
     },
     "metadata": {
      "needs_background": "light"
     },
     "output_type": "display_data"
    }
   ],
   "source": [
    "plt.plot(lstm_history.history['val_recall_m'])\n",
    "plt.plot(cnn_history.history['val_recall_m'])\n",
    "plt.plot(attention_history.history['val_recall_m'])\n",
    "\n",
    "plt.title('LSTM vs. CNN vs. Attention on Sensitivity')\n",
    "plt.ylabel('Sensitivity')\n",
    "plt.xlabel('epoch')\n",
    "plt.legend(['LSTM','CNN', 'Bidirectional RNN+Attention'], loc='best')\n",
    "plt.show()"
   ]
  },
  {
   "cell_type": "code",
   "execution_count": 163,
   "metadata": {},
   "outputs": [
    {
     "data": {
      "image/png": "[encoded data removed]",
      "text/plain": [
       "<Figure size 432x288 with 1 Axes>"
      ]
     },
     "metadata": {
      "needs_background": "light"
     },
     "output_type": "display_data"
    }
   ],
   "source": [
    "plt.plot(lstm_history.history['val_precision_m'])\n",
    "plt.plot(cnn_history.history['val_precision_m'])\n",
    "plt.plot(attention_history.history['val_precision_m'])\n",
    "\n",
    "plt.title('LSTM vs. CNN vs. Attention on Precision')\n",
    "plt.ylabel('Precision')\n",
    "plt.xlabel('epoch')\n",
    "plt.legend(['LSTM','CNN', 'Bidirectional RNN+Attention'], loc='best')\n",
    "plt.show()"
   ]
  },
  {
   "cell_type": "markdown",
   "metadata": {},
   "source": [
    "It proves that Bidirectional RNN + Attention model is best on finding insincere questions. "
   ]
  }
 ],
 "metadata": {
  "kernelspec": {
   "display_name": "Python 3",
   "language": "python",
   "name": "python3"
  },
  "language_info": {
   "codemirror_mode": {
    "name": "ipython",
    "version": 3
   },
   "file_extension": ".py",
   "mimetype": "text/x-python",
   "name": "python",
   "nbconvert_exporter": "python",
   "pygments_lexer": "ipython3",
   "version": "3.7.4"
  }
 },
 "nbformat": 4,
 "nbformat_minor": 2
}
