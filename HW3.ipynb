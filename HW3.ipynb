{
 "cells": [
  {
   "cell_type": "markdown",
   "metadata": {},
   "source": [
    "### 590 HW3\n",
    "\n",
    "#### Author: Siyao Peng    \n",
    "\n",
    "\n",
    "\n",
    "\n",
    "     "
   ]
  },
  {
   "cell_type": "code",
   "execution_count": 90,
   "metadata": {},
   "outputs": [],
   "source": [
    "from keras import backend as K\n",
    "from keras.applications import VGG16\n",
    "from keras.preprocessing import image\n",
    "from keras.preprocessing.image import ImageDataGenerator, array_to_img, img_to_array, load_img\n",
    "from keras.models import Sequential, Model\n",
    "from keras.layers import Input, Dense, Flatten, Conv1D, Conv2D, MaxPooling2D, UpSampling2D, Dropout, MaxPooling1D\n",
    "from keras.layers import LSTM, Embedding\n",
    "from keras.optimizers import RMSprop\n",
    "\n",
    "from keras.utils import np_utils\n",
    "from keras.callbacks import EarlyStopping  \n",
    "from keras.datasets import fashion_mnist\n",
    "\n",
    "from sklearn.metrics import roc_curve\n",
    "\n",
    "import seaborn as sns\n",
    "import numpy as np\n",
    "import matplotlib.pyplot as plt\n",
    "%matplotlib inline\n"
   ]
  },
  {
   "cell_type": "markdown",
   "metadata": {},
   "source": [
    "### 1. Autoencoder\n",
    "\n",
    "When input data consists of images, it is a good idea to use a convolutional autoencoder. It is not an autoencoder variant, but rather a traditional autoencoder stacked with convolution layers: basically replace fully connected layers by convolutional layers. Convolution layers along with max-pooling layers, convert the input from wide (a 28 x 28 image) and thin (a single channel or gray scale) to small (7 x 7 image at the latent space) and thick (128 channels)."
   ]
  },
  {
   "cell_type": "markdown",
   "metadata": {},
   "source": [
    "Let's prepare our input data. We're using fashion MNIST images, and we're discarding the labels (since we're only interested in encoding/decoding the input images)."
   ]
  },
  {
   "cell_type": "code",
   "execution_count": 2,
   "metadata": {},
   "outputs": [
    {
     "name": "stdout",
     "output_type": "stream",
     "text": [
      "(60000, 28, 28)\n"
     ]
    }
   ],
   "source": [
    "(x_train, _), (x_test, _) = fashion_mnist.load_data()\n",
    "\n",
    "# data normalization\n",
    "x_train = x_train.astype('float32') / 255.\n",
    "x_test = x_test.astype('float32') / 255.\n",
    "\n",
    "print(x_train.shape)"
   ]
  },
  {
   "cell_type": "code",
   "execution_count": 3,
   "metadata": {},
   "outputs": [
    {
     "name": "stdout",
     "output_type": "stream",
     "text": [
      "(60000, 28, 28, 1)\n",
      "(10000, 28, 28, 1)\n"
     ]
    }
   ],
   "source": [
    "x_train = np.reshape(x_train, (len(x_train), 28, 28, 1))  \n",
    "x_test = np.reshape(x_test, (len(x_test), 28, 28, 1)) \n",
    "\n",
    "print(x_train.shape)\n",
    "print(x_test.shape)"
   ]
  },
  {
   "cell_type": "markdown",
   "metadata": {},
   "source": [
    "The encoder will consist of a stack of Conv2D and MaxPooling2D layers, while the decoder will consist in a stack of Conv2D and UpSampling2D layers."
   ]
  },
  {
   "cell_type": "code",
   "execution_count": 4,
   "metadata": {},
   "outputs": [],
   "source": [
    "# this is our input placeholder\n",
    "input_img = Input(shape=(28, 28, 1))  \n",
    "\n",
    "x = Conv2D(32, (3, 3), activation='relu', padding='same')(input_img)   \n",
    "x = MaxPooling2D((2, 2), padding='same')(x)    \n",
    "x = Conv2D(16, (3, 3), activation='relu', padding='same')(x)  \n",
    "x = MaxPooling2D((2, 2), padding='same')(x)   \n",
    "x = Conv2D(16, (3, 3), activation='relu', padding='same')(x)    \n",
    "x = MaxPooling2D((2, 2), padding='same')(x)     \n",
    "x = Conv2D(8, (3, 3), activation='relu', padding='same')(x)    \n",
    "encoded = MaxPooling2D((2, 2), padding='same')(x)     \n",
    "\n",
    "# at this point the representation is (4, 4, 8) i.e. 128-dimensional\n",
    "\n",
    "x = Conv2D(8, (3, 3), activation='relu', padding='same')(encoded)\n",
    "x = UpSampling2D((2, 2))(x)\n",
    "x = Conv2D(16, (3, 3), activation='relu', padding='same')(x)\n",
    "x = UpSampling2D((2, 2))(x)\n",
    "x = Conv2D(16, (3, 3), activation='relu', padding='same')(x)\n",
    "x = UpSampling2D((2, 2))(x)\n",
    "x = Conv2D(32, (3, 3), activation='relu')(x)\n",
    "x = UpSampling2D((2, 2))(x)\n",
    "\n",
    "decoded = Conv2D(1, (3, 3), activation='sigmoid', padding='same')(x)\n",
    "\n",
    "autoencoder = Model(input_img, decoded)\n",
    "autoencoder.compile(optimizer='adadelta', loss='binary_crossentropy')"
   ]
  },
  {
   "cell_type": "code",
   "execution_count": 5,
   "metadata": {},
   "outputs": [
    {
     "name": "stdout",
     "output_type": "stream",
     "text": [
      "Model: \"model_1\"\n",
      "_________________________________________________________________\n",
      "Layer (type)                 Output Shape              Param #   \n",
      "=================================================================\n",
      "input_1 (InputLayer)         (None, 28, 28, 1)         0         \n",
      "_________________________________________________________________\n",
      "conv2d_1 (Conv2D)            (None, 28, 28, 32)        320       \n",
      "_________________________________________________________________\n",
      "max_pooling2d_1 (MaxPooling2 (None, 14, 14, 32)        0         \n",
      "_________________________________________________________________\n",
      "conv2d_2 (Conv2D)            (None, 14, 14, 16)        4624      \n",
      "_________________________________________________________________\n",
      "max_pooling2d_2 (MaxPooling2 (None, 7, 7, 16)          0         \n",
      "_________________________________________________________________\n",
      "conv2d_3 (Conv2D)            (None, 7, 7, 16)          2320      \n",
      "_________________________________________________________________\n",
      "max_pooling2d_3 (MaxPooling2 (None, 4, 4, 16)          0         \n",
      "_________________________________________________________________\n",
      "conv2d_4 (Conv2D)            (None, 4, 4, 8)           1160      \n",
      "_________________________________________________________________\n",
      "max_pooling2d_4 (MaxPooling2 (None, 2, 2, 8)           0         \n",
      "_________________________________________________________________\n",
      "conv2d_5 (Conv2D)            (None, 2, 2, 8)           584       \n",
      "_________________________________________________________________\n",
      "up_sampling2d_1 (UpSampling2 (None, 4, 4, 8)           0         \n",
      "_________________________________________________________________\n",
      "conv2d_6 (Conv2D)            (None, 4, 4, 16)          1168      \n",
      "_________________________________________________________________\n",
      "up_sampling2d_2 (UpSampling2 (None, 8, 8, 16)          0         \n",
      "_________________________________________________________________\n",
      "conv2d_7 (Conv2D)            (None, 8, 8, 16)          2320      \n",
      "_________________________________________________________________\n",
      "up_sampling2d_3 (UpSampling2 (None, 16, 16, 16)        0         \n",
      "_________________________________________________________________\n",
      "conv2d_8 (Conv2D)            (None, 14, 14, 32)        4640      \n",
      "_________________________________________________________________\n",
      "up_sampling2d_4 (UpSampling2 (None, 28, 28, 32)        0         \n",
      "_________________________________________________________________\n",
      "conv2d_9 (Conv2D)            (None, 28, 28, 1)         289       \n",
      "=================================================================\n",
      "Total params: 17,425\n",
      "Trainable params: 17,425\n",
      "Non-trainable params: 0\n",
      "_________________________________________________________________\n"
     ]
    }
   ],
   "source": [
    "autoencoder.summary()"
   ]
  },
  {
   "cell_type": "code",
   "execution_count": 6,
   "metadata": {},
   "outputs": [
    {
     "name": "stdout",
     "output_type": "stream",
     "text": [
      "Train on 60000 samples, validate on 10000 samples\n",
      "Epoch 1/20\n",
      "60000/60000 [==============================] - 82s 1ms/step - loss: 0.3953 - val_loss: 0.3379\n",
      "Epoch 2/20\n",
      "60000/60000 [==============================] - 81s 1ms/step - loss: 0.3370 - val_loss: 0.3261\n",
      "Epoch 3/20\n",
      "60000/60000 [==============================] - 73s 1ms/step - loss: 0.3258 - val_loss: 0.3221\n",
      "Epoch 4/20\n",
      "60000/60000 [==============================] - 71s 1ms/step - loss: 0.3195 - val_loss: 0.3218\n",
      "Epoch 5/20\n",
      "60000/60000 [==============================] - 72s 1ms/step - loss: 0.3163 - val_loss: 0.3159\n",
      "Epoch 6/20\n",
      "60000/60000 [==============================] - 72s 1ms/step - loss: 0.3134 - val_loss: 0.3138\n",
      "Epoch 7/20\n",
      "60000/60000 [==============================] - 96s 2ms/step - loss: 0.3112 - val_loss: 0.3127\n",
      "Epoch 8/20\n",
      "60000/60000 [==============================] - 72s 1ms/step - loss: 0.3090 - val_loss: 0.3090\n",
      "Epoch 9/20\n",
      "60000/60000 [==============================] - 74s 1ms/step - loss: 0.3074 - val_loss: 0.3089\n",
      "Epoch 10/20\n",
      "60000/60000 [==============================] - 73s 1ms/step - loss: 0.3063 - val_loss: 0.3099\n",
      "Epoch 11/20\n",
      "60000/60000 [==============================] - 76s 1ms/step - loss: 0.3053 - val_loss: 0.3060\n",
      "Epoch 12/20\n",
      "60000/60000 [==============================] - 73s 1ms/step - loss: 0.3042 - val_loss: 0.3074\n",
      "Epoch 13/20\n",
      "60000/60000 [==============================] - 73s 1ms/step - loss: 0.3034 - val_loss: 0.3080\n",
      "Epoch 14/20\n",
      "60000/60000 [==============================] - 74s 1ms/step - loss: 0.3027 - val_loss: 0.3052\n",
      "Epoch 15/20\n",
      "60000/60000 [==============================] - 341s 6ms/step - loss: 0.3021 - val_loss: 0.3041\n",
      "Epoch 16/20\n",
      "60000/60000 [==============================] - 88s 1ms/step - loss: 0.3014 - val_loss: 0.3073\n",
      "Epoch 17/20\n",
      "60000/60000 [==============================] - 105s 2ms/step - loss: 0.3009 - val_loss: 0.3007\n",
      "Epoch 18/20\n",
      "60000/60000 [==============================] - 96s 2ms/step - loss: 0.3000 - val_loss: 0.3017\n",
      "Epoch 19/20\n",
      "60000/60000 [==============================] - 84s 1ms/step - loss: 0.2996 - val_loss: 0.3013\n",
      "Epoch 20/20\n",
      "60000/60000 [==============================] - 89s 1ms/step - loss: 0.2989 - val_loss: 0.2983\n"
     ]
    }
   ],
   "source": [
    "from keras.callbacks import EarlyStopping  \n",
    "\n",
    "eary_stopping = EarlyStopping(  # halt training when loss stops decreasing, very useful when #epochs is large\n",
    "    monitor='val_loss',\n",
    "    min_delta=0,\n",
    "    patience=7,\n",
    "    verbose=1,\n",
    "    mode='auto')\n",
    "\n",
    "autoencoder_history = autoencoder.fit(x_train, x_train,\n",
    "                epochs=20,\n",
    "                batch_size=128,\n",
    "                shuffle=True,\n",
    "                validation_data=(x_test, x_test),\n",
    "                callbacks=[eary_stopping])"
   ]
  },
  {
   "cell_type": "code",
   "execution_count": 7,
   "metadata": {},
   "outputs": [
    {
     "data": {
      "image/png": "[encoded data removed]",
      "text/plain": [
       "<Figure size 432x288 with 1 Axes>"
      ]
     },
     "metadata": {
      "needs_background": "light"
     },
     "output_type": "display_data"
    }
   ],
   "source": [
    "# Evaluate\n",
    "def plot_train_history_loss(history):\n",
    "    # summarize history for loss\n",
    "    plt.plot(history.history['loss'])\n",
    "    plt.plot(history.history['val_loss'])\n",
    "    plt.title('model loss')\n",
    "    plt.ylabel('loss')\n",
    "    plt.xlabel('epoch')\n",
    "    plt.legend(['train', 'test'], loc='upper right')\n",
    "    plt.show()\n",
    "\n",
    "plot_train_history_loss(autoencoder_history)"
   ]
  },
  {
   "cell_type": "code",
   "execution_count": 8,
   "metadata": {},
   "outputs": [
    {
     "data": {
      "image/png": "[encoded data removed]",
      "text/plain": [
       "<Figure size 1440x288 with 20 Axes>"
      ]
     },
     "metadata": {
      "needs_background": "light"
     },
     "output_type": "display_data"
    }
   ],
   "source": [
    "# Display original and reconstruction Images\n",
    "decoded_imgs = autoencoder.predict(x_test)\n",
    "\n",
    "n = 10\n",
    "plt.figure(figsize=(20, 4))\n",
    "for i in range(n):\n",
    "    # display original\n",
    "    ax = plt.subplot(2, n, i + 1)\n",
    "    plt.imshow(x_test[-i].reshape(28, 28))\n",
    "    plt.gray()\n",
    "    ax.get_xaxis().set_visible(False)\n",
    "    ax.get_yaxis().set_visible(False)\n",
    "\n",
    "    if decoded_imgs is not None:\n",
    "        # display reconstruction\n",
    "        ax = plt.subplot(2, n, i + 1 + n)\n",
    "        plt.imshow(decoded_imgs[-i].reshape(28, 28))\n",
    "        plt.gray()\n",
    "        ax.get_xaxis().set_visible(False)\n",
    "        ax.get_yaxis().set_visible(False)\n",
    "plt.show()"
   ]
  },
  {
   "cell_type": "markdown",
   "metadata": {},
   "source": [
    "### 2. Image Classification\n",
    "\n",
    "#### (1) Deep CNN"
   ]
  },
  {
   "cell_type": "code",
   "execution_count": 9,
   "metadata": {},
   "outputs": [],
   "source": [
    "(X_train, y_train), (X_test, y_test) = fashion_mnist.load_data()\n",
    "X_train = X_train.reshape(X_train.shape[0], 28, 28,1)\n",
    "X_test = X_test.reshape(X_test.shape[0], 28, 28,1)\n",
    "\n",
    "X_train = X_train.astype('float32')\n",
    "X_test = X_test.astype('float32')\n",
    "X_train /= 255\n",
    "X_test /= 255\n",
    "\n",
    "Y_train = np_utils.to_categorical(y_train, 10)\n",
    "Y_test = np_utils.to_categorical(y_test, 10)"
   ]
  },
  {
   "cell_type": "code",
   "execution_count": 10,
   "metadata": {},
   "outputs": [
    {
     "name": "stdout",
     "output_type": "stream",
     "text": [
      "(60000, 28, 28, 1) (60000, 10)\n",
      "(10000, 28, 28, 1) (10000, 10)\n"
     ]
    }
   ],
   "source": [
    "print(X_train.shape, Y_train.shape)\n",
    "print(X_test.shape, Y_test.shape)"
   ]
  },
  {
   "cell_type": "code",
   "execution_count": 11,
   "metadata": {},
   "outputs": [
    {
     "data": {
      "text/plain": [
       "array([[0., 0., 0., 0., 0., 0., 0., 0., 0., 1.],\n",
       "       [0., 0., 1., 0., 0., 0., 0., 0., 0., 0.],\n",
       "       [0., 1., 0., 0., 0., 0., 0., 0., 0., 0.],\n",
       "       [0., 1., 0., 0., 0., 0., 0., 0., 0., 0.],\n",
       "       [0., 0., 0., 0., 0., 0., 1., 0., 0., 0.]], dtype=float32)"
      ]
     },
     "execution_count": 11,
     "metadata": {},
     "output_type": "execute_result"
    }
   ],
   "source": [
    "Y_test[:5]"
   ]
  },
  {
   "cell_type": "code",
   "execution_count": 12,
   "metadata": {},
   "outputs": [],
   "source": [
    "model = Sequential()\n",
    "model.add(Conv2D(filters = 32,kernel_size=(3, 3), \n",
    "                 activation='relu', strides=(1, 1), \n",
    "                 padding='valid',\n",
    "                 input_shape=(28,28,1)))\n",
    "\n",
    "model.add(Conv2D(filters = 50,kernel_size=(3, 3), \n",
    "                 activation='relu', strides=(2, 2), \n",
    "                 padding='valid'))\n",
    "\n",
    "model.add(MaxPooling2D(pool_size=(2,2)))\n",
    "\n",
    "model.add(Conv2D(filters = 50,kernel_size=(3, 3), \n",
    "                 activation='relu', strides=(2, 2), \n",
    "                 padding='valid'))\n",
    "model.add(Dropout(0.25))\n",
    "model.add(Conv2D(filters = 20,kernel_size=(3, 3), \n",
    "                 activation='relu', strides=(1, 1), \n",
    "                 padding='same'))\n",
    "model.add(MaxPooling2D(pool_size=(2,2)))\n",
    "\n",
    "model.add(Flatten())\n",
    "model.add(Dense(64, activation='relu'))\n",
    "model.add(Dropout(0.5))\n",
    "model.add(Dense(10, activation='softmax'))"
   ]
  },
  {
   "cell_type": "code",
   "execution_count": 13,
   "metadata": {},
   "outputs": [
    {
     "name": "stdout",
     "output_type": "stream",
     "text": [
      "Model: \"sequential_1\"\n",
      "_________________________________________________________________\n",
      "Layer (type)                 Output Shape              Param #   \n",
      "=================================================================\n",
      "conv2d_10 (Conv2D)           (None, 26, 26, 32)        320       \n",
      "_________________________________________________________________\n",
      "conv2d_11 (Conv2D)           (None, 12, 12, 50)        14450     \n",
      "_________________________________________________________________\n",
      "max_pooling2d_5 (MaxPooling2 (None, 6, 6, 50)          0         \n",
      "_________________________________________________________________\n",
      "conv2d_12 (Conv2D)           (None, 2, 2, 50)          22550     \n",
      "_________________________________________________________________\n",
      "dropout_1 (Dropout)          (None, 2, 2, 50)          0         \n",
      "_________________________________________________________________\n",
      "conv2d_13 (Conv2D)           (None, 2, 2, 20)          9020      \n",
      "_________________________________________________________________\n",
      "max_pooling2d_6 (MaxPooling2 (None, 1, 1, 20)          0         \n",
      "_________________________________________________________________\n",
      "flatten_1 (Flatten)          (None, 20)                0         \n",
      "_________________________________________________________________\n",
      "dense_1 (Dense)              (None, 64)                1344      \n",
      "_________________________________________________________________\n",
      "dropout_2 (Dropout)          (None, 64)                0         \n",
      "_________________________________________________________________\n",
      "dense_2 (Dense)              (None, 10)                650       \n",
      "=================================================================\n",
      "Total params: 48,334\n",
      "Trainable params: 48,334\n",
      "Non-trainable params: 0\n",
      "_________________________________________________________________\n"
     ]
    }
   ],
   "source": [
    "model.summary()"
   ]
  },
  {
   "cell_type": "markdown",
   "metadata": {},
   "source": [
    "First, convolve over 32 kernels whose size is 3 by 3, the stride is 1, so move one step every time, there is no padding, after this step, the layer shape becomes 26 by 26 by 32.    \n",
    "\n",
    "Second, convolve over 50 kernels whose size is 3 by 3, the stride is 2, so move two steps every time, there is no padding, after this step, the layer shape becomes 12 by 12 by 50.     \n",
    "\n",
    "Then, we downsample by maxpooling over 2 by 2 filter, after this step, the layer shape is 6 by 6 by 50.   \n",
    "\n",
    "In the fourth step, convolve over 50 kernels whose size is 3 by 3, the stride is 2, so move two steps every time, there is no padding, after this step, the layer shape becomes 2 by 2 by 50. \n",
    "\n",
    "In the fifth step, convolve over 20 kernels whose size is 3 by 3, the stride is 1, so move one step every time, there is no padding, after this step, the layer shape becomes 1 by 1 by 20.   \n",
    "\n",
    "Next, we downsample by maxpooling over 2 by 2 filter, after this step, the layer shape is 1 by 1 by 20.      \n",
    "  \n",
    "Then, flatten the layer, and build two fully connected layers and output the result.    \n",
    "\n",
    "There are 8 layers in total. \n"
   ]
  },
  {
   "cell_type": "code",
   "execution_count": 14,
   "metadata": {},
   "outputs": [],
   "source": [
    "model.compile(loss='categorical_crossentropy',\n",
    "              optimizer='adam',\n",
    "              metrics=['accuracy'])"
   ]
  },
  {
   "cell_type": "code",
   "execution_count": 15,
   "metadata": {},
   "outputs": [
    {
     "name": "stdout",
     "output_type": "stream",
     "text": [
      "Train on 60000 samples, validate on 10000 samples\n",
      "Epoch 1/20\n",
      "60000/60000 [==============================] - 30s 493us/step - loss: 0.9478 - accuracy: 0.6590 - val_loss: 0.5426 - val_accuracy: 0.8015\n",
      "Epoch 2/20\n",
      "60000/60000 [==============================] - 26s 432us/step - loss: 0.5729 - accuracy: 0.7972 - val_loss: 0.4484 - val_accuracy: 0.8336\n",
      "Epoch 3/20\n",
      "60000/60000 [==============================] - 26s 431us/step - loss: 0.5013 - accuracy: 0.8228 - val_loss: 0.4161 - val_accuracy: 0.8425\n",
      "Epoch 4/20\n",
      "60000/60000 [==============================] - 26s 439us/step - loss: 0.4619 - accuracy: 0.8370 - val_loss: 0.3868 - val_accuracy: 0.8566\n",
      "Epoch 5/20\n",
      "60000/60000 [==============================] - 26s 434us/step - loss: 0.4302 - accuracy: 0.8482 - val_loss: 0.3742 - val_accuracy: 0.8596\n",
      "Epoch 6/20\n",
      "60000/60000 [==============================] - 26s 435us/step - loss: 0.4095 - accuracy: 0.8567 - val_loss: 0.3461 - val_accuracy: 0.8732\n",
      "Epoch 7/20\n",
      "60000/60000 [==============================] - 26s 437us/step - loss: 0.3916 - accuracy: 0.8630 - val_loss: 0.3421 - val_accuracy: 0.8748\n",
      "Epoch 8/20\n",
      "60000/60000 [==============================] - 26s 440us/step - loss: 0.3743 - accuracy: 0.8684 - val_loss: 0.3268 - val_accuracy: 0.8824\n",
      "Epoch 9/20\n",
      "60000/60000 [==============================] - 27s 451us/step - loss: 0.3604 - accuracy: 0.8736 - val_loss: 0.3234 - val_accuracy: 0.8823\n",
      "Epoch 10/20\n",
      "60000/60000 [==============================] - 27s 443us/step - loss: 0.3505 - accuracy: 0.8763 - val_loss: 0.3213 - val_accuracy: 0.8823\n",
      "Epoch 11/20\n",
      "60000/60000 [==============================] - 26s 437us/step - loss: 0.3362 - accuracy: 0.8813 - val_loss: 0.3110 - val_accuracy: 0.8867\n",
      "Epoch 12/20\n",
      "60000/60000 [==============================] - 27s 446us/step - loss: 0.3317 - accuracy: 0.8828 - val_loss: 0.3201 - val_accuracy: 0.8852\n",
      "Epoch 13/20\n",
      "60000/60000 [==============================] - 27s 448us/step - loss: 0.3205 - accuracy: 0.8859 - val_loss: 0.2986 - val_accuracy: 0.8934\n",
      "Epoch 14/20\n",
      "60000/60000 [==============================] - 26s 439us/step - loss: 0.3166 - accuracy: 0.8892 - val_loss: 0.3034 - val_accuracy: 0.8907\n",
      "Epoch 15/20\n",
      "60000/60000 [==============================] - 26s 441us/step - loss: 0.3075 - accuracy: 0.8924 - val_loss: 0.2985 - val_accuracy: 0.8930\n",
      "Epoch 16/20\n",
      "60000/60000 [==============================] - 26s 441us/step - loss: 0.3010 - accuracy: 0.8949 - val_loss: 0.2977 - val_accuracy: 0.8930\n",
      "Epoch 17/20\n",
      "60000/60000 [==============================] - 27s 444us/step - loss: 0.2965 - accuracy: 0.8953 - val_loss: 0.2908 - val_accuracy: 0.8962\n",
      "Epoch 18/20\n",
      "60000/60000 [==============================] - 27s 443us/step - loss: 0.2900 - accuracy: 0.8977 - val_loss: 0.2916 - val_accuracy: 0.8958\n",
      "Epoch 19/20\n",
      "60000/60000 [==============================] - 26s 442us/step - loss: 0.2874 - accuracy: 0.8986 - val_loss: 0.2932 - val_accuracy: 0.8943\n",
      "Epoch 20/20\n",
      "60000/60000 [==============================] - 30s 504us/step - loss: 0.2826 - accuracy: 0.8987 - val_loss: 0.2916 - val_accuracy: 0.8980\n"
     ]
    }
   ],
   "source": [
    "eary_stopping = EarlyStopping(\n",
    "    monitor='val_loss',\n",
    "    min_delta=0,\n",
    "    patience=7,\n",
    "    verbose=1,\n",
    "    mode='auto')\n",
    "\n",
    "deep_cnn = model.fit(X_train,\n",
    "                     Y_train,\n",
    "                     batch_size=128,\n",
    "                     epochs=20,\n",
    "                     validation_data=(X_test, Y_test),\n",
    "                     callbacks= [eary_stopping])"
   ]
  },
  {
   "cell_type": "code",
   "execution_count": 16,
   "metadata": {},
   "outputs": [
    {
     "name": "stdout",
     "output_type": "stream",
     "text": [
      "10000/10000 [==============================] - 1s 136us/step\n",
      "test score: [0.2916094063639641, 0.8980000019073486]\n"
     ]
    }
   ],
   "source": [
    "score = model.evaluate(X_test, Y_test, verbose=1)\n",
    "print('test score:', score)"
   ]
  },
  {
   "cell_type": "code",
   "execution_count": 17,
   "metadata": {},
   "outputs": [
    {
     "data": {
      "image/png": "[encoded data removed]",
      "text/plain": [
       "<Figure size 432x288 with 1 Axes>"
      ]
     },
     "metadata": {
      "needs_background": "light"
     },
     "output_type": "display_data"
    }
   ],
   "source": [
    "def plot_train_history_loss(history):\n",
    "    # summarize history for loss\n",
    "    plt.plot(history.history['loss'])\n",
    "    plt.plot(history.history['val_loss'])\n",
    "    plt.title('model loss')\n",
    "    plt.ylabel('loss')\n",
    "    plt.xlabel('epoch')\n",
    "    plt.legend(['train', 'test'], loc='upper right')\n",
    "    plt.show()\n",
    "\n",
    "plot_train_history_loss(deep_cnn)"
   ]
  },
  {
   "cell_type": "markdown",
   "metadata": {},
   "source": [
    "After training, the accuracy of training set is 0.8987, the accuracy of testing set is 0.8980. They are very close, and the model doesn't overfit."
   ]
  },
  {
   "cell_type": "markdown",
   "metadata": {},
   "source": [
    "#### (2) Transfer Learning"
   ]
  },
  {
   "cell_type": "markdown",
   "metadata": {},
   "source": [
    "In this step, I use VGG16, and only train the final Dense layer, all other weights are fixed.    \n",
    "       \n",
    "For VGG16 model, the input should have exactly 3 inputs channels, and width and height should be no smaller than 48.   "
   ]
  },
  {
   "cell_type": "code",
   "execution_count": 18,
   "metadata": {},
   "outputs": [
    {
     "name": "stdout",
     "output_type": "stream",
     "text": [
      "(60000, 48, 48, 3) (10000, 48, 48, 3)\n"
     ]
    }
   ],
   "source": [
    "(X_train, y_train), (X_test, y_test) = fashion_mnist.load_data()\n",
    "X_train = np.stack((X_train,)*3, axis=-1).astype('float32') # increase channels\n",
    "X_test = np.stack((X_test,)*3, axis=-1).astype('float32')\n",
    "\n",
    "X_train = np.asarray([img_to_array(array_to_img(im, scale=False).resize((48,48))) for im in X_train]) # enlarge size\n",
    "X_test = np.asarray([img_to_array(array_to_img(im, scale=False).resize((48,48))) for im in X_test])\n",
    "\n",
    "X_train /= 255\n",
    "X_test /= 255\n",
    "\n",
    "Y_train = np_utils.to_categorical(y_train, 10)\n",
    "Y_test = np_utils.to_categorical(y_test, 10)\n",
    "\n",
    "print(X_train.shape, X_test.shape)"
   ]
  },
  {
   "cell_type": "code",
   "execution_count": 19,
   "metadata": {},
   "outputs": [
    {
     "name": "stdout",
     "output_type": "stream",
     "text": [
      "Model: \"sequential_2\"\n",
      "_________________________________________________________________\n",
      "Layer (type)                 Output Shape              Param #   \n",
      "=================================================================\n",
      "vgg16 (Model)                (None, 1, 1, 512)         14714688  \n",
      "_________________________________________________________________\n",
      "flatten_2 (Flatten)          (None, 512)               0         \n",
      "_________________________________________________________________\n",
      "dense_3 (Dense)              (None, 64)                32832     \n",
      "_________________________________________________________________\n",
      "dropout_3 (Dropout)          (None, 64)                0         \n",
      "_________________________________________________________________\n",
      "dense_4 (Dense)              (None, 10)                650       \n",
      "=================================================================\n",
      "Total params: 14,748,170\n",
      "Trainable params: 33,482\n",
      "Non-trainable params: 14,714,688\n",
      "_________________________________________________________________\n"
     ]
    }
   ],
   "source": [
    "conv_base = VGG16(weights='imagenet', include_top=False, input_shape=(48, 48, 3))\n",
    "conv_base.trainable = False # we only train the weights on our Dense layers, and keep the VGG weights fixed and not adjuste them.\n",
    "model = Sequential()\n",
    "model.add(conv_base)\n",
    "model.add(Flatten())\n",
    "model.add(Dense(64, activation=\"relu\"))\n",
    "model.add(Dropout(0.5))\n",
    "model.add(Dense(10, activation=\"sigmoid\"))\n",
    "model.summary()"
   ]
  },
  {
   "cell_type": "code",
   "execution_count": 20,
   "metadata": {},
   "outputs": [],
   "source": [
    "model.compile(loss=\"binary_crossentropy\", optimizer=RMSprop(1e-4),metrics=[\"acc\"])"
   ]
  },
  {
   "cell_type": "code",
   "execution_count": 22,
   "metadata": {},
   "outputs": [
    {
     "name": "stdout",
     "output_type": "stream",
     "text": [
      "Train on 60000 samples, validate on 10000 samples\n",
      "Epoch 1/3\n",
      "60000/60000 [==============================] - 963s 16ms/step - loss: 0.2174 - acc: 0.9187 - val_loss: 0.1516 - val_acc: 0.9407\n",
      "Epoch 2/3\n",
      "60000/60000 [==============================] - 985s 16ms/step - loss: 0.1753 - acc: 0.9335 - val_loss: 0.1292 - val_acc: 0.9508\n",
      "Epoch 3/3\n",
      "60000/60000 [==============================] - 735s 12ms/step - loss: 0.1532 - acc: 0.9415 - val_loss: 0.1173 - val_acc: 0.9553\n"
     ]
    }
   ],
   "source": [
    "eary_stopping = EarlyStopping(\n",
    "    monitor='val_loss',\n",
    "    min_delta=0,\n",
    "    patience=7,\n",
    "    verbose=1,\n",
    "    mode='auto')\n",
    "\n",
    "transfer = model.fit(X_train,\n",
    "                     Y_train,\n",
    "                     batch_size=128,\n",
    "                     epochs=3,\n",
    "                     validation_data=(X_test, Y_test),\n",
    "                     callbacks= [eary_stopping])"
   ]
  },
  {
   "cell_type": "code",
   "execution_count": 23,
   "metadata": {},
   "outputs": [
    {
     "name": "stdout",
     "output_type": "stream",
     "text": [
      "10000/10000 [==============================] - 106s 11ms/step\n",
      "test score: [0.11730851590633393, 0.9552598595619202]\n"
     ]
    }
   ],
   "source": [
    "score = model.evaluate(X_test, Y_test, verbose=1)\n",
    "print('test score:', score)"
   ]
  },
  {
   "cell_type": "code",
   "execution_count": 30,
   "metadata": {},
   "outputs": [
    {
     "data": {
      "image/png": "[encoded data removed]",
      "text/plain": [
       "<Figure size 432x288 with 1 Axes>"
      ]
     },
     "metadata": {
      "needs_background": "light"
     },
     "output_type": "display_data"
    }
   ],
   "source": [
    "plot_train_history_loss(transfer)"
   ]
  },
  {
   "cell_type": "markdown",
   "metadata": {},
   "source": [
    "After training, the accuracy of training set is 0.9415, the accuracy of testing set is 0.9553.     \n",
    "   \n",
    "Transfer learning has better performance than deep CNN. Transfer learning achieves accuracy on testing set of 0.9553 despite of 3 epochs used. In CNN, the number of epoch is 20 but only to achieve 0.8980 accuracy.\n",
    "\n"
   ]
  },
  {
   "cell_type": "markdown",
   "metadata": {},
   "source": [
    "### 3. Text Classification\n",
    "\n",
    "#### Text Exploration & Cleaning"
   ]
  },
  {
   "cell_type": "code",
   "execution_count": 25,
   "metadata": {},
   "outputs": [
    {
     "name": "stdout",
     "output_type": "stream",
     "text": [
      "The header have 17 features\n",
      "There are 77947 records\n"
     ]
    }
   ],
   "source": [
    "import pandas as pd\n",
    "files = open(\"tweets_with_labels.csv\")\n",
    "lines = files.readlines()\n",
    "files.close()\n",
    "lines = [line.strip('\\n') for line in lines]\n",
    "comments = [line.split(\"\\t\") for line in lines]\n",
    "header = comments[0]\n",
    "print('The header have', len(header), 'features')\n",
    "print('There are', len(comments), 'records')"
   ]
  },
  {
   "cell_type": "code",
   "execution_count": 26,
   "metadata": {},
   "outputs": [
    {
     "name": "stdout",
     "output_type": "stream",
     "text": [
      "After removing invalid comments, there are 77847 left.\n"
     ]
    }
   ],
   "source": [
    "comments = [c for c in comments[1:] if len(c)==17]\n",
    "print('After removing invalid comments, there are', len(comments), 'left.')"
   ]
  },
  {
   "cell_type": "code",
   "execution_count": 27,
   "metadata": {},
   "outputs": [
    {
     "data": {
      "text/html": [
       "<div>\n",
       "<style scoped>\n",
       "    .dataframe tbody tr th:only-of-type {\n",
       "        vertical-align: middle;\n",
       "    }\n",
       "\n",
       "    .dataframe tbody tr th {\n",
       "        vertical-align: top;\n",
       "    }\n",
       "\n",
       "    .dataframe thead th {\n",
       "        text-align: right;\n",
       "    }\n",
       "</style>\n",
       "<table border=\"1\" class=\"dataframe\">\n",
       "  <thead>\n",
       "    <tr style=\"text-align: right;\">\n",
       "      <th></th>\n",
       "      <th>id</th>\n",
       "      <th>tweet</th>\n",
       "      <th>k1</th>\n",
       "      <th>k2</th>\n",
       "      <th>k3</th>\n",
       "      <th>k4</th>\n",
       "      <th>k5</th>\n",
       "      <th>k6</th>\n",
       "      <th>k7</th>\n",
       "      <th>k8</th>\n",
       "      <th>k9</th>\n",
       "      <th>k10</th>\n",
       "      <th>k11</th>\n",
       "      <th>k12</th>\n",
       "      <th>k13</th>\n",
       "      <th>k14</th>\n",
       "      <th>k15</th>\n",
       "    </tr>\n",
       "  </thead>\n",
       "  <tbody>\n",
       "    <tr>\n",
       "      <td>0</td>\n",
       "      <td>1</td>\n",
       "      <td>Jazz for a Rainy Afternoon:  {link}</td>\n",
       "      <td>0</td>\n",
       "      <td>0</td>\n",
       "      <td>0</td>\n",
       "      <td>0</td>\n",
       "      <td>0</td>\n",
       "      <td>0</td>\n",
       "      <td>0</td>\n",
       "      <td>0</td>\n",
       "      <td>0</td>\n",
       "      <td>1</td>\n",
       "      <td>0</td>\n",
       "      <td>0</td>\n",
       "      <td>0</td>\n",
       "      <td>0</td>\n",
       "      <td>0</td>\n",
       "    </tr>\n",
       "    <tr>\n",
       "      <td>1</td>\n",
       "      <td>2</td>\n",
       "      <td>RT: @mention: I love rainy days.</td>\n",
       "      <td>0</td>\n",
       "      <td>0</td>\n",
       "      <td>0</td>\n",
       "      <td>0</td>\n",
       "      <td>0</td>\n",
       "      <td>0</td>\n",
       "      <td>0</td>\n",
       "      <td>0</td>\n",
       "      <td>0</td>\n",
       "      <td>1</td>\n",
       "      <td>0</td>\n",
       "      <td>0</td>\n",
       "      <td>0</td>\n",
       "      <td>0</td>\n",
       "      <td>0</td>\n",
       "    </tr>\n",
       "    <tr>\n",
       "      <td>2</td>\n",
       "      <td>3</td>\n",
       "      <td>Good Morning Chicago! Time to kick the Windy C...</td>\n",
       "      <td>0</td>\n",
       "      <td>0</td>\n",
       "      <td>0</td>\n",
       "      <td>0</td>\n",
       "      <td>0</td>\n",
       "      <td>0</td>\n",
       "      <td>1</td>\n",
       "      <td>0</td>\n",
       "      <td>0</td>\n",
       "      <td>0</td>\n",
       "      <td>0</td>\n",
       "      <td>0</td>\n",
       "      <td>0</td>\n",
       "      <td>0</td>\n",
       "      <td>0</td>\n",
       "    </tr>\n",
       "    <tr>\n",
       "      <td>3</td>\n",
       "      <td>6</td>\n",
       "      <td>Preach lol! :) RT @mention: #alliwantis this t...</td>\n",
       "      <td>0</td>\n",
       "      <td>0</td>\n",
       "      <td>0</td>\n",
       "      <td>0</td>\n",
       "      <td>0</td>\n",
       "      <td>0</td>\n",
       "      <td>0.604</td>\n",
       "      <td>0</td>\n",
       "      <td>0.196</td>\n",
       "      <td>0</td>\n",
       "      <td>0</td>\n",
       "      <td>0</td>\n",
       "      <td>0.201</td>\n",
       "      <td>0</td>\n",
       "      <td>0</td>\n",
       "    </tr>\n",
       "    <tr>\n",
       "      <td>4</td>\n",
       "      <td>9</td>\n",
       "      <td>@mention good morning sunshine</td>\n",
       "      <td>0</td>\n",
       "      <td>0</td>\n",
       "      <td>0</td>\n",
       "      <td>0</td>\n",
       "      <td>0</td>\n",
       "      <td>0</td>\n",
       "      <td>0</td>\n",
       "      <td>0</td>\n",
       "      <td>0</td>\n",
       "      <td>0</td>\n",
       "      <td>0</td>\n",
       "      <td>0</td>\n",
       "      <td>1</td>\n",
       "      <td>0</td>\n",
       "      <td>0</td>\n",
       "    </tr>\n",
       "    <tr>\n",
       "      <td>5</td>\n",
       "      <td>10</td>\n",
       "      <td>Rather be storm chasing.</td>\n",
       "      <td>0</td>\n",
       "      <td>0</td>\n",
       "      <td>0</td>\n",
       "      <td>0</td>\n",
       "      <td>0</td>\n",
       "      <td>0</td>\n",
       "      <td>0</td>\n",
       "      <td>0</td>\n",
       "      <td>0</td>\n",
       "      <td>0</td>\n",
       "      <td>0</td>\n",
       "      <td>1</td>\n",
       "      <td>0</td>\n",
       "      <td>0</td>\n",
       "      <td>0</td>\n",
       "    </tr>\n",
       "    <tr>\n",
       "      <td>6</td>\n",
       "      <td>11</td>\n",
       "      <td>#WEATHER:  1:54 pm : 61.0F. Feels 60F. 29.98% ...</td>\n",
       "      <td>0</td>\n",
       "      <td>0.203</td>\n",
       "      <td>0.176</td>\n",
       "      <td>0</td>\n",
       "      <td>0.376</td>\n",
       "      <td>0</td>\n",
       "      <td>0.421</td>\n",
       "      <td>0</td>\n",
       "      <td>0.176</td>\n",
       "      <td>0</td>\n",
       "      <td>0</td>\n",
       "      <td>0</td>\n",
       "      <td>0</td>\n",
       "      <td>0</td>\n",
       "      <td>0.579</td>\n",
       "    </tr>\n",
       "    <tr>\n",
       "      <td>7</td>\n",
       "      <td>13</td>\n",
       "      <td>Father. Son. Holy ghost. Amen... hope I come o...</td>\n",
       "      <td>0</td>\n",
       "      <td>0</td>\n",
       "      <td>0</td>\n",
       "      <td>1</td>\n",
       "      <td>0</td>\n",
       "      <td>0</td>\n",
       "      <td>0</td>\n",
       "      <td>0</td>\n",
       "      <td>0</td>\n",
       "      <td>0</td>\n",
       "      <td>0</td>\n",
       "      <td>0</td>\n",
       "      <td>0</td>\n",
       "      <td>0</td>\n",
       "      <td>0</td>\n",
       "    </tr>\n",
       "    <tr>\n",
       "      <td>8</td>\n",
       "      <td>14</td>\n",
       "      <td>Mild Monday best weather day of the week in Ok...</td>\n",
       "      <td>0</td>\n",
       "      <td>0</td>\n",
       "      <td>0</td>\n",
       "      <td>0.194</td>\n",
       "      <td>0</td>\n",
       "      <td>0</td>\n",
       "      <td>0.605</td>\n",
       "      <td>0</td>\n",
       "      <td>0.2</td>\n",
       "      <td>0</td>\n",
       "      <td>0</td>\n",
       "      <td>0</td>\n",
       "      <td>0</td>\n",
       "      <td>0</td>\n",
       "      <td>0</td>\n",
       "    </tr>\n",
       "    <tr>\n",
       "      <td>9</td>\n",
       "      <td>15</td>\n",
       "      <td>With the snow forecast for Tahoe this weekend,...</td>\n",
       "      <td>0</td>\n",
       "      <td>0</td>\n",
       "      <td>0</td>\n",
       "      <td>0</td>\n",
       "      <td>0</td>\n",
       "      <td>0</td>\n",
       "      <td>0</td>\n",
       "      <td>0</td>\n",
       "      <td>0</td>\n",
       "      <td>0</td>\n",
       "      <td>1</td>\n",
       "      <td>0</td>\n",
       "      <td>0</td>\n",
       "      <td>0</td>\n",
       "      <td>0</td>\n",
       "    </tr>\n",
       "  </tbody>\n",
       "</table>\n",
       "</div>"
      ],
      "text/plain": [
       "   id                                              tweet k1     k2     k3  \\\n",
       "0   1                Jazz for a Rainy Afternoon:  {link}  0      0      0   \n",
       "1   2                   RT: @mention: I love rainy days.  0      0      0   \n",
       "2   3  Good Morning Chicago! Time to kick the Windy C...  0      0      0   \n",
       "3   6  Preach lol! :) RT @mention: #alliwantis this t...  0      0      0   \n",
       "4   9                     @mention good morning sunshine  0      0      0   \n",
       "5  10                           Rather be storm chasing.  0      0      0   \n",
       "6  11  #WEATHER:  1:54 pm : 61.0F. Feels 60F. 29.98% ...  0  0.203  0.176   \n",
       "7  13  Father. Son. Holy ghost. Amen... hope I come o...  0      0      0   \n",
       "8  14  Mild Monday best weather day of the week in Ok...  0      0      0   \n",
       "9  15  With the snow forecast for Tahoe this weekend,...  0      0      0   \n",
       "\n",
       "      k4     k5 k6     k7 k8     k9 k10 k11 k12    k13 k14    k15  \n",
       "0      0      0  0      0  0      0   1   0   0      0   0      0  \n",
       "1      0      0  0      0  0      0   1   0   0      0   0      0  \n",
       "2      0      0  0      1  0      0   0   0   0      0   0      0  \n",
       "3      0      0  0  0.604  0  0.196   0   0   0  0.201   0      0  \n",
       "4      0      0  0      0  0      0   0   0   0      1   0      0  \n",
       "5      0      0  0      0  0      0   0   0   1      0   0      0  \n",
       "6      0  0.376  0  0.421  0  0.176   0   0   0      0   0  0.579  \n",
       "7      1      0  0      0  0      0   0   0   0      0   0      0  \n",
       "8  0.194      0  0  0.605  0    0.2   0   0   0      0   0      0  \n",
       "9      0      0  0      0  0      0   0   1   0      0   0      0  "
      ]
     },
     "execution_count": 27,
     "metadata": {},
     "output_type": "execute_result"
    }
   ],
   "source": [
    "df = pd.DataFrame(columns=header, data=comments)\n",
    "df.head(n=10)"
   ]
  },
  {
   "cell_type": "markdown",
   "metadata": {},
   "source": [
    "I notice the row where id=11, the values over k1 to k15 sum to almost 2. Obviously this is incorrect according to the question."
   ]
  },
  {
   "cell_type": "code",
   "execution_count": 28,
   "metadata": {},
   "outputs": [
    {
     "data": {
      "text/plain": [
       "54587"
      ]
     },
     "execution_count": 28,
     "metadata": {},
     "output_type": "execute_result"
    }
   ],
   "source": [
    "df.iloc[:,2:]=df.iloc[:,2:].astype('float')\n",
    "\n",
    "# The label is the fraction of annotations for a given topic, and each row should sum to 1.\n",
    "valid = [r for r in range(df.shape[0]) if 0.95<=sum(df.iloc[r,2:])<=1.05] \n",
    "len(valid)"
   ]
  },
  {
   "cell_type": "code",
   "execution_count": 29,
   "metadata": {},
   "outputs": [
    {
     "data": {
      "text/html": [
       "<div>\n",
       "<style scoped>\n",
       "    .dataframe tbody tr th:only-of-type {\n",
       "        vertical-align: middle;\n",
       "    }\n",
       "\n",
       "    .dataframe tbody tr th {\n",
       "        vertical-align: top;\n",
       "    }\n",
       "\n",
       "    .dataframe thead th {\n",
       "        text-align: right;\n",
       "    }\n",
       "</style>\n",
       "<table border=\"1\" class=\"dataframe\">\n",
       "  <thead>\n",
       "    <tr style=\"text-align: right;\">\n",
       "      <th></th>\n",
       "      <th>id</th>\n",
       "      <th>tweet</th>\n",
       "      <th>k1</th>\n",
       "      <th>k2</th>\n",
       "      <th>k3</th>\n",
       "      <th>k4</th>\n",
       "      <th>k5</th>\n",
       "      <th>k6</th>\n",
       "      <th>k7</th>\n",
       "      <th>k8</th>\n",
       "      <th>k9</th>\n",
       "      <th>k10</th>\n",
       "      <th>k11</th>\n",
       "      <th>k12</th>\n",
       "      <th>k13</th>\n",
       "      <th>k14</th>\n",
       "      <th>k15</th>\n",
       "    </tr>\n",
       "  </thead>\n",
       "  <tbody>\n",
       "    <tr>\n",
       "      <td>0</td>\n",
       "      <td>1</td>\n",
       "      <td>Jazz for a Rainy Afternoon:  {link}</td>\n",
       "      <td>0</td>\n",
       "      <td>0</td>\n",
       "      <td>0</td>\n",
       "      <td>0</td>\n",
       "      <td>0</td>\n",
       "      <td>0</td>\n",
       "      <td>0</td>\n",
       "      <td>0</td>\n",
       "      <td>0</td>\n",
       "      <td>1</td>\n",
       "      <td>0</td>\n",
       "      <td>0</td>\n",
       "      <td>0</td>\n",
       "      <td>0</td>\n",
       "      <td>0</td>\n",
       "    </tr>\n",
       "    <tr>\n",
       "      <td>1</td>\n",
       "      <td>2</td>\n",
       "      <td>RT: @mention: I love rainy days.</td>\n",
       "      <td>0</td>\n",
       "      <td>0</td>\n",
       "      <td>0</td>\n",
       "      <td>0</td>\n",
       "      <td>0</td>\n",
       "      <td>0</td>\n",
       "      <td>0</td>\n",
       "      <td>0</td>\n",
       "      <td>0</td>\n",
       "      <td>1</td>\n",
       "      <td>0</td>\n",
       "      <td>0</td>\n",
       "      <td>0</td>\n",
       "      <td>0</td>\n",
       "      <td>0</td>\n",
       "    </tr>\n",
       "    <tr>\n",
       "      <td>2</td>\n",
       "      <td>3</td>\n",
       "      <td>Good Morning Chicago! Time to kick the Windy C...</td>\n",
       "      <td>0</td>\n",
       "      <td>0</td>\n",
       "      <td>0</td>\n",
       "      <td>0</td>\n",
       "      <td>0</td>\n",
       "      <td>0</td>\n",
       "      <td>1</td>\n",
       "      <td>0</td>\n",
       "      <td>0</td>\n",
       "      <td>0</td>\n",
       "      <td>0</td>\n",
       "      <td>0</td>\n",
       "      <td>0</td>\n",
       "      <td>0</td>\n",
       "      <td>0</td>\n",
       "    </tr>\n",
       "    <tr>\n",
       "      <td>3</td>\n",
       "      <td>6</td>\n",
       "      <td>Preach lol! :) RT @mention: #alliwantis this t...</td>\n",
       "      <td>0</td>\n",
       "      <td>0</td>\n",
       "      <td>0</td>\n",
       "      <td>0</td>\n",
       "      <td>0</td>\n",
       "      <td>0</td>\n",
       "      <td>0.604</td>\n",
       "      <td>0</td>\n",
       "      <td>0.196</td>\n",
       "      <td>0</td>\n",
       "      <td>0</td>\n",
       "      <td>0</td>\n",
       "      <td>0.201</td>\n",
       "      <td>0</td>\n",
       "      <td>0</td>\n",
       "    </tr>\n",
       "    <tr>\n",
       "      <td>4</td>\n",
       "      <td>9</td>\n",
       "      <td>@mention good morning sunshine</td>\n",
       "      <td>0</td>\n",
       "      <td>0</td>\n",
       "      <td>0</td>\n",
       "      <td>0</td>\n",
       "      <td>0</td>\n",
       "      <td>0</td>\n",
       "      <td>0</td>\n",
       "      <td>0</td>\n",
       "      <td>0</td>\n",
       "      <td>0</td>\n",
       "      <td>0</td>\n",
       "      <td>0</td>\n",
       "      <td>1</td>\n",
       "      <td>0</td>\n",
       "      <td>0</td>\n",
       "    </tr>\n",
       "    <tr>\n",
       "      <td>5</td>\n",
       "      <td>10</td>\n",
       "      <td>Rather be storm chasing.</td>\n",
       "      <td>0</td>\n",
       "      <td>0</td>\n",
       "      <td>0</td>\n",
       "      <td>0</td>\n",
       "      <td>0</td>\n",
       "      <td>0</td>\n",
       "      <td>0</td>\n",
       "      <td>0</td>\n",
       "      <td>0</td>\n",
       "      <td>0</td>\n",
       "      <td>0</td>\n",
       "      <td>1</td>\n",
       "      <td>0</td>\n",
       "      <td>0</td>\n",
       "      <td>0</td>\n",
       "    </tr>\n",
       "    <tr>\n",
       "      <td>7</td>\n",
       "      <td>13</td>\n",
       "      <td>Father. Son. Holy ghost. Amen... hope I come o...</td>\n",
       "      <td>0</td>\n",
       "      <td>0</td>\n",
       "      <td>0</td>\n",
       "      <td>1</td>\n",
       "      <td>0</td>\n",
       "      <td>0</td>\n",
       "      <td>0</td>\n",
       "      <td>0</td>\n",
       "      <td>0</td>\n",
       "      <td>0</td>\n",
       "      <td>0</td>\n",
       "      <td>0</td>\n",
       "      <td>0</td>\n",
       "      <td>0</td>\n",
       "      <td>0</td>\n",
       "    </tr>\n",
       "    <tr>\n",
       "      <td>8</td>\n",
       "      <td>14</td>\n",
       "      <td>Mild Monday best weather day of the week in Ok...</td>\n",
       "      <td>0</td>\n",
       "      <td>0</td>\n",
       "      <td>0</td>\n",
       "      <td>0.194</td>\n",
       "      <td>0</td>\n",
       "      <td>0</td>\n",
       "      <td>0.605</td>\n",
       "      <td>0</td>\n",
       "      <td>0.2</td>\n",
       "      <td>0</td>\n",
       "      <td>0</td>\n",
       "      <td>0</td>\n",
       "      <td>0</td>\n",
       "      <td>0</td>\n",
       "      <td>0</td>\n",
       "    </tr>\n",
       "    <tr>\n",
       "      <td>9</td>\n",
       "      <td>15</td>\n",
       "      <td>With the snow forecast for Tahoe this weekend,...</td>\n",
       "      <td>0</td>\n",
       "      <td>0</td>\n",
       "      <td>0</td>\n",
       "      <td>0</td>\n",
       "      <td>0</td>\n",
       "      <td>0</td>\n",
       "      <td>0</td>\n",
       "      <td>0</td>\n",
       "      <td>0</td>\n",
       "      <td>0</td>\n",
       "      <td>1</td>\n",
       "      <td>0</td>\n",
       "      <td>0</td>\n",
       "      <td>0</td>\n",
       "      <td>0</td>\n",
       "    </tr>\n",
       "    <tr>\n",
       "      <td>13</td>\n",
       "      <td>21</td>\n",
       "      <td>RT @mention: Rainy afternoons are great for ho...</td>\n",
       "      <td>0</td>\n",
       "      <td>0</td>\n",
       "      <td>0</td>\n",
       "      <td>0</td>\n",
       "      <td>0</td>\n",
       "      <td>0</td>\n",
       "      <td>0</td>\n",
       "      <td>0</td>\n",
       "      <td>0</td>\n",
       "      <td>1</td>\n",
       "      <td>0</td>\n",
       "      <td>0</td>\n",
       "      <td>0</td>\n",
       "      <td>0</td>\n",
       "      <td>0</td>\n",
       "    </tr>\n",
       "  </tbody>\n",
       "</table>\n",
       "</div>"
      ],
      "text/plain": [
       "    id                                              tweet k1 k2 k3     k4 k5  \\\n",
       "0    1                Jazz for a Rainy Afternoon:  {link}  0  0  0      0  0   \n",
       "1    2                   RT: @mention: I love rainy days.  0  0  0      0  0   \n",
       "2    3  Good Morning Chicago! Time to kick the Windy C...  0  0  0      0  0   \n",
       "3    6  Preach lol! :) RT @mention: #alliwantis this t...  0  0  0      0  0   \n",
       "4    9                     @mention good morning sunshine  0  0  0      0  0   \n",
       "5   10                           Rather be storm chasing.  0  0  0      0  0   \n",
       "7   13  Father. Son. Holy ghost. Amen... hope I come o...  0  0  0      1  0   \n",
       "8   14  Mild Monday best weather day of the week in Ok...  0  0  0  0.194  0   \n",
       "9   15  With the snow forecast for Tahoe this weekend,...  0  0  0      0  0   \n",
       "13  21  RT @mention: Rainy afternoons are great for ho...  0  0  0      0  0   \n",
       "\n",
       "   k6     k7 k8     k9 k10 k11 k12    k13 k14 k15  \n",
       "0   0      0  0      0   1   0   0      0   0   0  \n",
       "1   0      0  0      0   1   0   0      0   0   0  \n",
       "2   0      1  0      0   0   0   0      0   0   0  \n",
       "3   0  0.604  0  0.196   0   0   0  0.201   0   0  \n",
       "4   0      0  0      0   0   0   0      1   0   0  \n",
       "5   0      0  0      0   0   0   1      0   0   0  \n",
       "7   0      0  0      0   0   0   0      0   0   0  \n",
       "8   0  0.605  0    0.2   0   0   0      0   0   0  \n",
       "9   0      0  0      0   0   1   0      0   0   0  \n",
       "13  0      0  0      0   1   0   0      0   0   0  "
      ]
     },
     "execution_count": 29,
     "metadata": {},
     "output_type": "execute_result"
    }
   ],
   "source": [
    "df = df.loc[valid,:] \n",
    "\n",
    "df.head(n=10)"
   ]
  },
  {
   "cell_type": "markdown",
   "metadata": {},
   "source": [
    "For each output category, use a sigmoid to collapse the output to between 0 and 1, each category output is independent of the others."
   ]
  },
  {
   "cell_type": "code",
   "execution_count": 31,
   "metadata": {},
   "outputs": [
    {
     "data": {
      "text/html": [
       "<div>\n",
       "<style scoped>\n",
       "    .dataframe tbody tr th:only-of-type {\n",
       "        vertical-align: middle;\n",
       "    }\n",
       "\n",
       "    .dataframe tbody tr th {\n",
       "        vertical-align: top;\n",
       "    }\n",
       "\n",
       "    .dataframe thead th {\n",
       "        text-align: right;\n",
       "    }\n",
       "</style>\n",
       "<table border=\"1\" class=\"dataframe\">\n",
       "  <thead>\n",
       "    <tr style=\"text-align: right;\">\n",
       "      <th></th>\n",
       "      <th>id</th>\n",
       "      <th>tweet</th>\n",
       "      <th>k1</th>\n",
       "      <th>k2</th>\n",
       "      <th>k3</th>\n",
       "      <th>k4</th>\n",
       "      <th>k5</th>\n",
       "      <th>k6</th>\n",
       "      <th>k7</th>\n",
       "      <th>k8</th>\n",
       "      <th>k9</th>\n",
       "      <th>k10</th>\n",
       "      <th>k11</th>\n",
       "      <th>k12</th>\n",
       "      <th>k13</th>\n",
       "      <th>k14</th>\n",
       "      <th>k15</th>\n",
       "    </tr>\n",
       "  </thead>\n",
       "  <tbody>\n",
       "    <tr>\n",
       "      <td>0</td>\n",
       "      <td>1</td>\n",
       "      <td>Jazz for a Rainy Afternoon:  {link}</td>\n",
       "      <td>0</td>\n",
       "      <td>0</td>\n",
       "      <td>0</td>\n",
       "      <td>0</td>\n",
       "      <td>0</td>\n",
       "      <td>0</td>\n",
       "      <td>0</td>\n",
       "      <td>0</td>\n",
       "      <td>0</td>\n",
       "      <td>1</td>\n",
       "      <td>0</td>\n",
       "      <td>0</td>\n",
       "      <td>0</td>\n",
       "      <td>0</td>\n",
       "      <td>0</td>\n",
       "    </tr>\n",
       "    <tr>\n",
       "      <td>1</td>\n",
       "      <td>2</td>\n",
       "      <td>RT: @mention: I love rainy days.</td>\n",
       "      <td>0</td>\n",
       "      <td>0</td>\n",
       "      <td>0</td>\n",
       "      <td>0</td>\n",
       "      <td>0</td>\n",
       "      <td>0</td>\n",
       "      <td>0</td>\n",
       "      <td>0</td>\n",
       "      <td>0</td>\n",
       "      <td>1</td>\n",
       "      <td>0</td>\n",
       "      <td>0</td>\n",
       "      <td>0</td>\n",
       "      <td>0</td>\n",
       "      <td>0</td>\n",
       "    </tr>\n",
       "    <tr>\n",
       "      <td>2</td>\n",
       "      <td>3</td>\n",
       "      <td>Good Morning Chicago! Time to kick the Windy C...</td>\n",
       "      <td>0</td>\n",
       "      <td>0</td>\n",
       "      <td>0</td>\n",
       "      <td>0</td>\n",
       "      <td>0</td>\n",
       "      <td>0</td>\n",
       "      <td>1</td>\n",
       "      <td>0</td>\n",
       "      <td>0</td>\n",
       "      <td>0</td>\n",
       "      <td>0</td>\n",
       "      <td>0</td>\n",
       "      <td>0</td>\n",
       "      <td>0</td>\n",
       "      <td>0</td>\n",
       "    </tr>\n",
       "    <tr>\n",
       "      <td>3</td>\n",
       "      <td>6</td>\n",
       "      <td>Preach lol! :) RT @mention: #alliwantis this t...</td>\n",
       "      <td>0</td>\n",
       "      <td>0</td>\n",
       "      <td>0</td>\n",
       "      <td>0</td>\n",
       "      <td>0</td>\n",
       "      <td>0</td>\n",
       "      <td>1</td>\n",
       "      <td>0</td>\n",
       "      <td>1</td>\n",
       "      <td>0</td>\n",
       "      <td>0</td>\n",
       "      <td>0</td>\n",
       "      <td>1</td>\n",
       "      <td>0</td>\n",
       "      <td>0</td>\n",
       "    </tr>\n",
       "    <tr>\n",
       "      <td>4</td>\n",
       "      <td>9</td>\n",
       "      <td>@mention good morning sunshine</td>\n",
       "      <td>0</td>\n",
       "      <td>0</td>\n",
       "      <td>0</td>\n",
       "      <td>0</td>\n",
       "      <td>0</td>\n",
       "      <td>0</td>\n",
       "      <td>0</td>\n",
       "      <td>0</td>\n",
       "      <td>0</td>\n",
       "      <td>0</td>\n",
       "      <td>0</td>\n",
       "      <td>0</td>\n",
       "      <td>1</td>\n",
       "      <td>0</td>\n",
       "      <td>0</td>\n",
       "    </tr>\n",
       "    <tr>\n",
       "      <td>5</td>\n",
       "      <td>10</td>\n",
       "      <td>Rather be storm chasing.</td>\n",
       "      <td>0</td>\n",
       "      <td>0</td>\n",
       "      <td>0</td>\n",
       "      <td>0</td>\n",
       "      <td>0</td>\n",
       "      <td>0</td>\n",
       "      <td>0</td>\n",
       "      <td>0</td>\n",
       "      <td>0</td>\n",
       "      <td>0</td>\n",
       "      <td>0</td>\n",
       "      <td>1</td>\n",
       "      <td>0</td>\n",
       "      <td>0</td>\n",
       "      <td>0</td>\n",
       "    </tr>\n",
       "    <tr>\n",
       "      <td>7</td>\n",
       "      <td>13</td>\n",
       "      <td>Father. Son. Holy ghost. Amen... hope I come o...</td>\n",
       "      <td>0</td>\n",
       "      <td>0</td>\n",
       "      <td>0</td>\n",
       "      <td>1</td>\n",
       "      <td>0</td>\n",
       "      <td>0</td>\n",
       "      <td>0</td>\n",
       "      <td>0</td>\n",
       "      <td>0</td>\n",
       "      <td>0</td>\n",
       "      <td>0</td>\n",
       "      <td>0</td>\n",
       "      <td>0</td>\n",
       "      <td>0</td>\n",
       "      <td>0</td>\n",
       "    </tr>\n",
       "    <tr>\n",
       "      <td>8</td>\n",
       "      <td>14</td>\n",
       "      <td>Mild Monday best weather day of the week in Ok...</td>\n",
       "      <td>0</td>\n",
       "      <td>0</td>\n",
       "      <td>0</td>\n",
       "      <td>1</td>\n",
       "      <td>0</td>\n",
       "      <td>0</td>\n",
       "      <td>1</td>\n",
       "      <td>0</td>\n",
       "      <td>1</td>\n",
       "      <td>0</td>\n",
       "      <td>0</td>\n",
       "      <td>0</td>\n",
       "      <td>0</td>\n",
       "      <td>0</td>\n",
       "      <td>0</td>\n",
       "    </tr>\n",
       "    <tr>\n",
       "      <td>9</td>\n",
       "      <td>15</td>\n",
       "      <td>With the snow forecast for Tahoe this weekend,...</td>\n",
       "      <td>0</td>\n",
       "      <td>0</td>\n",
       "      <td>0</td>\n",
       "      <td>0</td>\n",
       "      <td>0</td>\n",
       "      <td>0</td>\n",
       "      <td>0</td>\n",
       "      <td>0</td>\n",
       "      <td>0</td>\n",
       "      <td>0</td>\n",
       "      <td>1</td>\n",
       "      <td>0</td>\n",
       "      <td>0</td>\n",
       "      <td>0</td>\n",
       "      <td>0</td>\n",
       "    </tr>\n",
       "    <tr>\n",
       "      <td>13</td>\n",
       "      <td>21</td>\n",
       "      <td>RT @mention: Rainy afternoons are great for ho...</td>\n",
       "      <td>0</td>\n",
       "      <td>0</td>\n",
       "      <td>0</td>\n",
       "      <td>0</td>\n",
       "      <td>0</td>\n",
       "      <td>0</td>\n",
       "      <td>0</td>\n",
       "      <td>0</td>\n",
       "      <td>0</td>\n",
       "      <td>1</td>\n",
       "      <td>0</td>\n",
       "      <td>0</td>\n",
       "      <td>0</td>\n",
       "      <td>0</td>\n",
       "      <td>0</td>\n",
       "    </tr>\n",
       "  </tbody>\n",
       "</table>\n",
       "</div>"
      ],
      "text/plain": [
       "    id                                              tweet  k1  k2  k3  k4  k5  \\\n",
       "0    1                Jazz for a Rainy Afternoon:  {link}   0   0   0   0   0   \n",
       "1    2                   RT: @mention: I love rainy days.   0   0   0   0   0   \n",
       "2    3  Good Morning Chicago! Time to kick the Windy C...   0   0   0   0   0   \n",
       "3    6  Preach lol! :) RT @mention: #alliwantis this t...   0   0   0   0   0   \n",
       "4    9                     @mention good morning sunshine   0   0   0   0   0   \n",
       "5   10                           Rather be storm chasing.   0   0   0   0   0   \n",
       "7   13  Father. Son. Holy ghost. Amen... hope I come o...   0   0   0   1   0   \n",
       "8   14  Mild Monday best weather day of the week in Ok...   0   0   0   1   0   \n",
       "9   15  With the snow forecast for Tahoe this weekend,...   0   0   0   0   0   \n",
       "13  21  RT @mention: Rainy afternoons are great for ho...   0   0   0   0   0   \n",
       "\n",
       "    k6  k7  k8  k9  k10  k11  k12  k13  k14  k15  \n",
       "0    0   0   0   0    1    0    0    0    0    0  \n",
       "1    0   0   0   0    1    0    0    0    0    0  \n",
       "2    0   1   0   0    0    0    0    0    0    0  \n",
       "3    0   1   0   1    0    0    0    1    0    0  \n",
       "4    0   0   0   0    0    0    0    1    0    0  \n",
       "5    0   0   0   0    0    0    1    0    0    0  \n",
       "7    0   0   0   0    0    0    0    0    0    0  \n",
       "8    0   1   0   1    0    0    0    0    0    0  \n",
       "9    0   0   0   0    0    1    0    0    0    0  \n",
       "13   0   0   0   0    1    0    0    0    0    0  "
      ]
     },
     "execution_count": 31,
     "metadata": {},
     "output_type": "execute_result"
    }
   ],
   "source": [
    "df = df[df.tweet!='']\n",
    "\n",
    "import math\n",
    "def sigmoid(x):\n",
    "  return 1 / (1 + math.exp(-x))\n",
    "\n",
    "df2=df\n",
    "for i in df2.columns[2:]:\n",
    "    df2[i]  = df2[i].apply(lambda m: 1 if round(sigmoid(m)) else 0)\n",
    "    \n",
    "\n",
    "df2.head(10)"
   ]
  },
  {
   "cell_type": "code",
   "execution_count": 32,
   "metadata": {},
   "outputs": [
    {
     "data": {
      "text/plain": [
       "Text(0.5, 0, 'Comment Type ')"
      ]
     },
     "execution_count": 32,
     "metadata": {},
     "output_type": "execute_result"
    },
    {
     "data": {
      "image/png": "[encoded data removed]",
      "text/plain": [
       "<Figure size 1080x576 with 1 Axes>"
      ]
     },
     "metadata": {},
     "output_type": "display_data"
    }
   ],
   "source": [
    "categories = list(df2.columns.values)\n",
    "sns.set(font_scale = 2)\n",
    "plt.figure(figsize=(15,8))\n",
    "ax= sns.barplot(categories[2:], df2.iloc[:,2:].sum().values)\n",
    "plt.title(\"Comments in each category\", fontsize=24)\n",
    "plt.ylabel('Number of comments', fontsize=18)\n",
    "plt.xlabel('Comment Type ', fontsize=18)\n"
   ]
  },
  {
   "cell_type": "code",
   "execution_count": 33,
   "metadata": {},
   "outputs": [
    {
     "data": {
      "image/png": "[encoded data removed]",
      "text/plain": [
       "<Figure size 1080x576 with 1 Axes>"
      ]
     },
     "metadata": {},
     "output_type": "display_data"
    }
   ],
   "source": [
    "rowSums = df2.iloc[:,2:].sum(axis=1)\n",
    "multiLabel_counts = rowSums.value_counts()\n",
    "sns.set(font_scale = 2)\n",
    "plt.figure(figsize=(15,8))\n",
    "ax = sns.barplot(multiLabel_counts.index, multiLabel_counts.values)\n",
    "plt.title(\"Comments having multiple labels \")\n",
    "plt.ylabel('Number of comments', fontsize=18)\n",
    "plt.xlabel('Number of labels', fontsize=18)\n",
    "\n",
    "plt.show()"
   ]
  },
  {
   "cell_type": "markdown",
   "metadata": {},
   "source": [
    "#### (1) RNN\n",
    "\n",
    "##### Text Preprocessing\n",
    "\n",
    "(1) remove punctuations and multiple spaces"
   ]
  },
  {
   "cell_type": "code",
   "execution_count": 34,
   "metadata": {},
   "outputs": [],
   "source": [
    "# --- Loading text and labels ----\n",
    "x = df2[\"tweet\"].values\n",
    "y = df2.iloc[:,2:].values\n",
    "\n",
    "# process text\n",
    "# Remove punctuations and numbers\n",
    "import re\n",
    "x = np.array(list(map(lambda i: re.sub('[^a-zA-Z]', ' ', i), x)))\n",
    "x = np.array(list(map(lambda i: re.sub(r'\\s+', ' ', i), x)))"
   ]
  },
  {
   "cell_type": "markdown",
   "metadata": {},
   "source": [
    "(2) tokenization"
   ]
  },
  {
   "cell_type": "code",
   "execution_count": 35,
   "metadata": {},
   "outputs": [
    {
     "name": "stdout",
     "output_type": "stream",
     "text": [
      "Found 33842 unique tokens in the texts.\n",
      "Shape of data tensor: (54587, 100)\n",
      "Shape of label: (54587, 15)\n"
     ]
    }
   ],
   "source": [
    "# tokenize\n",
    "from keras.preprocessing.text import Tokenizer\n",
    "from keras.preprocessing.sequence import pad_sequences\n",
    "\n",
    "MAX_NUM_WORDS = 2000 \n",
    "MAX_SEQUENCE_LENGTH = 100 \n",
    "\n",
    "tokenizer = Tokenizer(num_words=MAX_NUM_WORDS)\n",
    "tokenizer.fit_on_texts(x)\n",
    "sequences = tokenizer.texts_to_sequences(x)\n",
    "\n",
    "# --- Tokenizing the words ---\n",
    "word_index = tokenizer.word_index\n",
    "print('Found {w} unique tokens in the texts.'.format(w=len(word_index)))\n",
    "\n",
    "# --- Padding sequences ---\n",
    "x = pad_sequences(sequences, maxlen=MAX_SEQUENCE_LENGTH)\n",
    "\n",
    "print('Shape of data tensor:', x.shape)\n",
    "print('Shape of label:', y.shape)"
   ]
  },
  {
   "cell_type": "code",
   "execution_count": 36,
   "metadata": {},
   "outputs": [
    {
     "data": {
      "text/plain": [
       "array([[   0,    0,    0, ...,   45,  239,   11],\n",
       "       [   0,    0,    0, ...,   68,   45,   89],\n",
       "       [   0,    0,    0, ...,  406,   98,  440],\n",
       "       ...,\n",
       "       [   0,    0,    0, ...,   28, 1606,  568],\n",
       "       [   0,    0,    0, ...,   23,    2,  258],\n",
       "       [   0,    0,    0, ...,  508,   17,   11]], dtype=int32)"
      ]
     },
     "execution_count": 36,
     "metadata": {},
     "output_type": "execute_result"
    }
   ],
   "source": [
    "x"
   ]
  },
  {
   "cell_type": "markdown",
   "metadata": {},
   "source": [
    "##### Split dataset"
   ]
  },
  {
   "cell_type": "code",
   "execution_count": 39,
   "metadata": {},
   "outputs": [],
   "source": [
    "from sklearn.model_selection import train_test_split\n",
    "x_train, x_test, y_train, y_test = train_test_split(x, y, test_size=0.20, random_state=1)"
   ]
  },
  {
   "cell_type": "markdown",
   "metadata": {},
   "source": [
    "##### Create model\n",
    "\n",
    "Our model will have one input layer, one embedding layer, one LSTM layer with 128 neurons and one output layer with 15 neurons since we have 15 labels in the output."
   ]
  },
  {
   "cell_type": "markdown",
   "metadata": {},
   "source": [
    "\n",
    "First, use GloVe word embeddings to convert text inputs to their numeric counterparts."
   ]
  },
  {
   "cell_type": "code",
   "execution_count": 37,
   "metadata": {},
   "outputs": [
    {
     "name": "stdout",
     "output_type": "stream",
     "text": [
      "Found 33843 word vectors.\n"
     ]
    }
   ],
   "source": [
    "embeddings_dictionary = dict()\n",
    "\n",
    "glove_file = open('glove.6B.100d.txt', encoding=\"utf8\")\n",
    "\n",
    "for line in glove_file:\n",
    "    records = line.split()\n",
    "    # - First entry is the word -\n",
    "    word = records[0]\n",
    "    # - The remaining vectors are strings that need to be converted to floats-\n",
    "    vector_dimensions = np.asarray(records[1:], dtype='float32')\n",
    "    # Embeddings is a dictionary of words:word_vector_embeddings\n",
    "    embeddings_dictionary[word] = vector_dimensions\n",
    "glove_file.close()\n",
    "\n",
    "embedding_matrix = np.zeros((len(word_index) + 1, 100))\n",
    "for word, index in tokenizer.word_index.items():\n",
    "    embedding_vector = embeddings_dictionary.get(word)\n",
    "    if embedding_vector is not None:\n",
    "        embedding_matrix[index] = embedding_vector\n",
    "\n",
    "print('Found {} word vectors.'.format(len(embedding_matrix)))"
   ]
  },
  {
   "cell_type": "code",
   "execution_count": 42,
   "metadata": {},
   "outputs": [],
   "source": [
    "# --- Define embedding layer ----\n",
    "\n",
    "embedding_layer = Embedding(len(word_index) + 1, 100, weights=[embedding_matrix], input_length=MAX_SEQUENCE_LENGTH, trainable=False)\n",
    "deep_inputs = Input(shape=(MAX_SEQUENCE_LENGTH,))\n",
    "x = embedding_layer(deep_inputs)\n",
    "LSTM_Layer_1 = LSTM(128)(x)\n",
    "dense_layer_1 = Dense(15, activation='sigmoid')(LSTM_Layer_1)\n",
    "rnn_model = Model(inputs=deep_inputs, outputs=dense_layer_1)\n",
    "\n",
    "rnn_model.compile(loss='binary_crossentropy', optimizer='adam', metrics=['acc'])"
   ]
  },
  {
   "cell_type": "code",
   "execution_count": 43,
   "metadata": {},
   "outputs": [
    {
     "name": "stdout",
     "output_type": "stream",
     "text": [
      "Model: \"model_3\"\n",
      "_________________________________________________________________\n",
      "Layer (type)                 Output Shape              Param #   \n",
      "=================================================================\n",
      "input_4 (InputLayer)         (None, 100)               0         \n",
      "_________________________________________________________________\n",
      "embedding_2 (Embedding)      (None, 100, 100)          3384300   \n",
      "_________________________________________________________________\n",
      "lstm_2 (LSTM)                (None, 128)               117248    \n",
      "_________________________________________________________________\n",
      "dense_6 (Dense)              (None, 15)                1935      \n",
      "=================================================================\n",
      "Total params: 3,503,483\n",
      "Trainable params: 119,183\n",
      "Non-trainable params: 3,384,300\n",
      "_________________________________________________________________\n",
      "None\n"
     ]
    }
   ],
   "source": [
    "print(rnn_model.summary())"
   ]
  },
  {
   "cell_type": "code",
   "execution_count": 45,
   "metadata": {},
   "outputs": [
    {
     "name": "stdout",
     "output_type": "stream",
     "text": [
      "Train on 43669 samples, validate on 10918 samples\n",
      "Epoch 1/10\n",
      "43669/43669 [==============================] - 86s 2ms/step - loss: 0.1928 - acc: 0.9291 - val_loss: 0.1422 - val_acc: 0.9499\n",
      "Epoch 2/10\n",
      "43669/43669 [==============================] - 74s 2ms/step - loss: 0.1239 - acc: 0.9575 - val_loss: 0.1102 - val_acc: 0.9616\n",
      "Epoch 3/10\n",
      "43669/43669 [==============================] - 88s 2ms/step - loss: 0.1071 - acc: 0.9623 - val_loss: 0.1008 - val_acc: 0.9649\n",
      "Epoch 4/10\n",
      "43669/43669 [==============================] - 81s 2ms/step - loss: 0.1001 - acc: 0.9650 - val_loss: 0.0967 - val_acc: 0.9665\n",
      "Epoch 5/10\n",
      "43669/43669 [==============================] - 84s 2ms/step - loss: 0.0972 - acc: 0.9659 - val_loss: 0.0951 - val_acc: 0.9668\n",
      "Epoch 6/10\n",
      "43669/43669 [==============================] - 90s 2ms/step - loss: 0.0952 - acc: 0.9664 - val_loss: 0.0940 - val_acc: 0.9673\n",
      "Epoch 7/10\n",
      "43669/43669 [==============================] - 73s 2ms/step - loss: 0.0937 - acc: 0.9668 - val_loss: 0.0926 - val_acc: 0.9674\n",
      "Epoch 8/10\n",
      "43669/43669 [==============================] - 74s 2ms/step - loss: 0.0926 - acc: 0.9670 - val_loss: 0.0918 - val_acc: 0.9676\n",
      "Epoch 9/10\n",
      "43669/43669 [==============================] - 74s 2ms/step - loss: 0.0915 - acc: 0.9674 - val_loss: 0.0909 - val_acc: 0.9678\n",
      "Epoch 10/10\n",
      "43669/43669 [==============================] - 73s 2ms/step - loss: 0.0905 - acc: 0.9676 - val_loss: 0.0908 - val_acc: 0.9679\n"
     ]
    }
   ],
   "source": [
    "rnn_history = rnn_model.fit(x_train, y_train, batch_size=256, epochs=10, validation_data=(x_test, y_test))"
   ]
  },
  {
   "cell_type": "code",
   "execution_count": 46,
   "metadata": {},
   "outputs": [
    {
     "data": {
      "image/png": "[encoded data removed]",
      "text/plain": [
       "<Figure size 432x288 with 1 Axes>"
      ]
     },
     "metadata": {},
     "output_type": "display_data"
    },
    {
     "data": {
      "image/png": "[encoded data removed]",
      "text/plain": [
       "<Figure size 432x288 with 1 Axes>"
      ]
     },
     "metadata": {},
     "output_type": "display_data"
    }
   ],
   "source": [
    "import matplotlib.pyplot as plt\n",
    "\n",
    "plt.plot(rnn_history.history['acc'])\n",
    "plt.plot(rnn_history.history['val_acc'])\n",
    "\n",
    "plt.title('model accuracy')\n",
    "plt.ylabel('accuracy')\n",
    "plt.xlabel('epoch')\n",
    "plt.legend(['train','test'], loc='upper left')\n",
    "plt.show()\n",
    "\n",
    "plt.plot(rnn_history.history['loss'])\n",
    "plt.plot(rnn_history.history['val_loss'])\n",
    "\n",
    "plt.title('model loss')\n",
    "plt.ylabel('loss')\n",
    "plt.xlabel('epoch')\n",
    "plt.legend(['train','test'], loc='upper left')\n",
    "plt.show()"
   ]
  },
  {
   "cell_type": "markdown",
   "metadata": {},
   "source": [
    "The accuracy on training set is 0.9676, the accuracy on testing set is 0.9679."
   ]
  },
  {
   "cell_type": "markdown",
   "metadata": {},
   "source": [
    "#### (2) 1D CNN with character-level convolution\n",
    "\n",
    "##### Text preprocessing    \n",
    "(1) remove multiple spaces and convert string to lower case"
   ]
  },
  {
   "cell_type": "code",
   "execution_count": 78,
   "metadata": {},
   "outputs": [],
   "source": [
    "# --- Loading text and labels ----\n",
    "x = df2[\"tweet\"].values\n",
    "y = df2.iloc[:,2:].values\n",
    "\n",
    "# process text\n",
    "# Remove extra spaces\n",
    "import re\n",
    "x = np.array(list(map(lambda i: re.sub(r'\\s+', ' ', i), x)))\n",
    "\n",
    "# convert string to lower case\n",
    "x = [s.lower() for s in x]"
   ]
  },
  {
   "cell_type": "markdown",
   "metadata": {},
   "source": [
    "(2) Tokenization"
   ]
  },
  {
   "cell_type": "code",
   "execution_count": 80,
   "metadata": {},
   "outputs": [
    {
     "name": "stdout",
     "output_type": "stream",
     "text": [
      "(54587, 1014)\n"
     ]
    }
   ],
   "source": [
    "# =======================Convert string to index================\n",
    "# Tokenizer\n",
    "tk = Tokenizer(num_words=None, char_level=True, oov_token='UNK')\n",
    "tk.fit_on_texts(x)\n",
    "\n",
    "# construct a new vocabulary\n",
    "alphabet = \"abcdefghijklmnopqrstuvwxyz0123456789,;.!?:'\\\"/\\\\|_@#$%^&*~`+-=<>()[]{}\"\n",
    "char_dict = {}\n",
    "for i, char in enumerate(alphabet):\n",
    "    char_dict[char] = i + 1\n",
    "\n",
    "# Use char_dict to replace the tk.word_index\n",
    "tk.word_index = char_dict.copy()\n",
    "# Add 'UNK' to the vocabulary\n",
    "tk.word_index[tk.oov_token] = max(char_dict.values()) + 1\n",
    "\n",
    "# Convert string to index \n",
    "sequences = tk.texts_to_sequences(x)  # train_sequence改的\n",
    "\n",
    "# Padding\n",
    "maxlen = 1014\n",
    "data = pad_sequences(sequences, maxlen=maxlen, padding='post')\n",
    "\n",
    "# Convert to numpy array\n",
    "data = np.array(data, dtype='float32')\n",
    "\n",
    "print(data.shape)"
   ]
  },
  {
   "cell_type": "markdown",
   "metadata": {},
   "source": [
    "##### Split data"
   ]
  },
  {
   "cell_type": "code",
   "execution_count": 81,
   "metadata": {},
   "outputs": [],
   "source": [
    "x_train, x_test, y_train, y_test = train_test_split(data, y, test_size=0.20, random_state=1)"
   ]
  },
  {
   "cell_type": "markdown",
   "metadata": {},
   "source": [
    "##### Create model\n",
    "\n",
    "Load Embedding Weights"
   ]
  },
  {
   "cell_type": "code",
   "execution_count": 82,
   "metadata": {},
   "outputs": [
    {
     "name": "stdout",
     "output_type": "stream",
     "text": [
      "69\n"
     ]
    }
   ],
   "source": [
    "vocab_size = len(tk.word_index)\n",
    "print(vocab_size)"
   ]
  },
  {
   "cell_type": "markdown",
   "metadata": {},
   "source": [
    "Then we use the one-hot vector to represent these 69 words, which means each character has 69 dimensions. Because Keras use 0 for PAD, we add a zero vector to represent PAD."
   ]
  },
  {
   "cell_type": "code",
   "execution_count": 83,
   "metadata": {},
   "outputs": [
    {
     "name": "stdout",
     "output_type": "stream",
     "text": [
      "Load\n"
     ]
    }
   ],
   "source": [
    "# Embedding weights\n",
    "embedding_size = 69\n",
    "embedding_weights = []  # (70, 69)\n",
    "embedding_weights.append(np.zeros(vocab_size))  # (0, 69)\n",
    "\n",
    "for char, i in tk.word_index.items():  # from index 1 to 69\n",
    "    onehot = np.zeros(vocab_size)\n",
    "    onehot[i - 1] = 1\n",
    "    embedding_weights.append(onehot)\n",
    "\n",
    "embedding_weights = np.array(embedding_weights)\n",
    "print('Load')\n",
    "\n",
    "# Embedding layer Initialization\n",
    "embedding_layer = Embedding(vocab_size + 1,\n",
    "                            embedding_size,\n",
    "                            input_length=maxlen,\n",
    "                            weights=[embedding_weights], trainable=False)\n"
   ]
  },
  {
   "cell_type": "code",
   "execution_count": 84,
   "metadata": {},
   "outputs": [
    {
     "name": "stdout",
     "output_type": "stream",
     "text": [
      "Model: \"model_4\"\n",
      "_________________________________________________________________\n",
      "Layer (type)                 Output Shape              Param #   \n",
      "=================================================================\n",
      "input (InputLayer)           (None, 1014)              0         \n",
      "_________________________________________________________________\n",
      "embedding_3 (Embedding)      (None, 1014, 69)          4830      \n",
      "_________________________________________________________________\n",
      "dropout_4 (Dropout)          (None, 1014, 69)          0         \n",
      "_________________________________________________________________\n",
      "conv1d_1 (Conv1D)            (None, 1012, 32)          6656      \n",
      "_________________________________________________________________\n",
      "max_pooling1d_1 (MaxPooling1 (None, 506, 32)           0         \n",
      "_________________________________________________________________\n",
      "conv1d_2 (Conv1D)            (None, 504, 32)           3104      \n",
      "_________________________________________________________________\n",
      "max_pooling1d_2 (MaxPooling1 (None, 252, 32)           0         \n",
      "_________________________________________________________________\n",
      "flatten_3 (Flatten)          (None, 8064)              0         \n",
      "_________________________________________________________________\n",
      "dense_7 (Dense)              (None, 200)               1613000   \n",
      "_________________________________________________________________\n",
      "dropout_5 (Dropout)          (None, 200)               0         \n",
      "_________________________________________________________________\n",
      "dense_8 (Dense)              (None, 15)                3015      \n",
      "=================================================================\n",
      "Total params: 1,630,605\n",
      "Trainable params: 1,625,775\n",
      "Non-trainable params: 4,830\n",
      "_________________________________________________________________\n"
     ]
    }
   ],
   "source": [
    "# Model Construction\n",
    "# Input\n",
    "cnn_inputs = Input(shape=(maxlen,), name='input', dtype='int64')  # shape=(?, 1014)\n",
    "x = embedding_layer(cnn_inputs)\n",
    "x = Dropout(0.3)(x)\n",
    "x = Conv1D(32, 3, padding='valid', activation='relu', strides=1)(x)\n",
    "x = MaxPooling1D()(x)\n",
    "x = Conv1D(32, 3, padding='valid', activation='relu', strides=1)(x)\n",
    "x = MaxPooling1D()(x)\n",
    "x = Flatten()(x)\n",
    "x = Dense(200, activation=\"relu\")(x)\n",
    "x = Dropout(0.3)(x)\n",
    "\n",
    "predictions = Dense(15, activation='sigmoid')(x)\n",
    "cnn_model = Model(inputs=cnn_inputs, outputs=predictions)\n",
    "cnn_model.compile(loss='binary_crossentropy', optimizer='adam', metrics=['acc']) # Adam, categorical_crossentropy\n",
    "cnn_model.summary()"
   ]
  },
  {
   "cell_type": "code",
   "execution_count": 86,
   "metadata": {},
   "outputs": [
    {
     "name": "stdout",
     "output_type": "stream",
     "text": [
      "Train on 43669 samples, validate on 10918 samples\n",
      "Epoch 1/10\n",
      "43669/43669 [==============================] - 84s 2ms/step - loss: 0.1843 - acc: 0.9348 - val_loss: 0.1567 - val_acc: 0.9468\n",
      "Epoch 2/10\n",
      "43669/43669 [==============================] - 75s 2ms/step - loss: 0.1649 - acc: 0.9424 - val_loss: 0.1368 - val_acc: 0.9545\n",
      "Epoch 3/10\n",
      "43669/43669 [==============================] - 78s 2ms/step - loss: 0.1510 - acc: 0.9476 - val_loss: 0.1242 - val_acc: 0.9572\n",
      "Epoch 4/10\n",
      "43669/43669 [==============================] - 70s 2ms/step - loss: 0.1428 - acc: 0.9505 - val_loss: 0.1183 - val_acc: 0.9595\n",
      "Epoch 5/10\n",
      "43669/43669 [==============================] - 78s 2ms/step - loss: 0.1378 - acc: 0.9525 - val_loss: 0.1140 - val_acc: 0.9610\n",
      "Epoch 6/10\n",
      "43669/43669 [==============================] - 78s 2ms/step - loss: 0.1337 - acc: 0.9537 - val_loss: 0.1111 - val_acc: 0.9619\n",
      "Epoch 7/10\n",
      "43669/43669 [==============================] - 77s 2ms/step - loss: 0.1307 - acc: 0.9546 - val_loss: 0.1090 - val_acc: 0.9622\n",
      "Epoch 8/10\n",
      "43669/43669 [==============================] - 72s 2ms/step - loss: 0.1284 - acc: 0.9551 - val_loss: 0.1068 - val_acc: 0.9628\n",
      "Epoch 9/10\n",
      "43669/43669 [==============================] - 78s 2ms/step - loss: 0.1253 - acc: 0.9561 - val_loss: 0.1044 - val_acc: 0.9636\n",
      "Epoch 10/10\n",
      "43669/43669 [==============================] - 70s 2ms/step - loss: 0.1230 - acc: 0.9567 - val_loss: 0.1024 - val_acc: 0.9647\n"
     ]
    }
   ],
   "source": [
    "history_cnn = cnn_model.fit(x_train, y_train, batch_size=128, epochs=10, validation_data=(x_test, y_test))"
   ]
  },
  {
   "cell_type": "code",
   "execution_count": 87,
   "metadata": {},
   "outputs": [
    {
     "data": {
      "image/png": "[encoded data removed]",
      "text/plain": [
       "<Figure size 432x288 with 1 Axes>"
      ]
     },
     "metadata": {},
     "output_type": "display_data"
    },
    {
     "data": {
      "image/png": "[encoded data removed]",
      "text/plain": [
       "<Figure size 432x288 with 1 Axes>"
      ]
     },
     "metadata": {},
     "output_type": "display_data"
    }
   ],
   "source": [
    "import matplotlib.pyplot as plt\n",
    "\n",
    "plt.plot(history_cnn.history['acc'])\n",
    "plt.plot(history_cnn.history['val_acc'])\n",
    "\n",
    "plt.title('model accuracy')\n",
    "plt.ylabel('accuracy')\n",
    "plt.xlabel('epoch')\n",
    "plt.legend(['train','test'], loc='upper left')\n",
    "plt.show()\n",
    "\n",
    "plt.plot(history_cnn.history['loss'])\n",
    "plt.plot(history_cnn.history['val_loss'])\n",
    "\n",
    "plt.title('model loss')\n",
    "plt.ylabel('loss')\n",
    "plt.xlabel('epoch')\n",
    "plt.legend(['train','test'], loc='upper left')\n",
    "plt.show()"
   ]
  },
  {
   "cell_type": "markdown",
   "metadata": {},
   "source": [
    "The accuracy on training set is 0.9567, the accuracy on testing set is 0.9647."
   ]
  },
  {
   "cell_type": "markdown",
   "metadata": {},
   "source": [
    "#### (3) ROC Curve for Comparison"
   ]
  },
  {
   "cell_type": "code",
   "execution_count": 72,
   "metadata": {},
   "outputs": [],
   "source": [
    "from sklearn.metrics import roc_curve, auc\n",
    "# Compute ROC curve and ROC area for each class\n",
    "rnn_model_y_pred = rnn_model.predict(x_test)\n",
    "fpr = dict()\n",
    "tpr = dict()\n",
    "roc_auc = dict()\n",
    "for i in range(15):\n",
    "    fpr[i], tpr[i], _ = roc_curve(y_test[:, i], rnn_model_y_pred[:, i])\n",
    "    roc_auc[i] = auc(fpr[i], tpr[i])\n",
    "\n",
    "# Compute micro-average ROC curve and ROC area\n",
    "fpr[\"micro\"], tpr[\"micro\"], _ = roc_curve(y_test.ravel(), rnn_model_y_pred.ravel())\n",
    "roc_auc[\"micro\"] = auc(fpr[\"micro\"], tpr[\"micro\"])"
   ]
  },
  {
   "cell_type": "code",
   "execution_count": 77,
   "metadata": {},
   "outputs": [
    {
     "data": {
      "image/png": "[encoded data removed]",
      "text/plain": [
       "<Figure size 432x288 with 1 Axes>"
      ]
     },
     "metadata": {},
     "output_type": "display_data"
    }
   ],
   "source": [
    "plt.plot(fpr[\"micro\"], tpr[\"micro\"], color='darkorange', lw=2, label='ROC curve (area = %0.2f)' % roc_auc[\"micro\"]) \n",
    "plt.plot([0, 1], [0, 1], color='navy', lw=2, linestyle='--')\n",
    "plt.xlabel('False Positive Rate')\n",
    "plt.ylabel('True Positive Rate')\n",
    "plt.title('ROC - RNN')\n",
    "plt.legend(loc=\"lower right\")\n",
    "plt.show()"
   ]
  },
  {
   "cell_type": "code",
   "execution_count": 88,
   "metadata": {},
   "outputs": [],
   "source": [
    "# Compute ROC curve and ROC area for each class\n",
    "cnn_model_y_pred = cnn_model.predict(x_test)\n",
    "fpr = dict()\n",
    "tpr = dict()\n",
    "roc_auc = dict()\n",
    "for i in range(15):\n",
    "    fpr[i], tpr[i], _ = roc_curve(y_test[:, i], cnn_model_y_pred[:, i])\n",
    "    roc_auc[i] = auc(fpr[i], tpr[i])\n",
    "\n",
    "# Compute micro-average ROC curve and ROC area\n",
    "fpr[\"micro\"], tpr[\"micro\"], _ = roc_curve(y_test.ravel(), cnn_model_y_pred.ravel())\n",
    "roc_auc[\"micro\"] = auc(fpr[\"micro\"], tpr[\"micro\"])\n"
   ]
  },
  {
   "cell_type": "code",
   "execution_count": 89,
   "metadata": {},
   "outputs": [
    {
     "data": {
      "image/png": "[encoded data removed]",
      "text/plain": [
       "<Figure size 432x288 with 1 Axes>"
      ]
     },
     "metadata": {},
     "output_type": "display_data"
    }
   ],
   "source": [
    "plt.plot(fpr[\"micro\"], tpr[\"micro\"], color='darkorange', lw=2, label='ROC curve (area = %0.2f)' % roc_auc[\"micro\"]) \n",
    "plt.plot([0, 1], [0, 1], color='navy', lw=2, linestyle='--')\n",
    "plt.xlabel('False Positive Rate')\n",
    "plt.ylabel('True Positive Rate')\n",
    "plt.title('ROC - CNN')\n",
    "plt.legend(loc=\"lower right\")\n",
    "plt.show()"
   ]
  },
  {
   "cell_type": "markdown",
   "metadata": {},
   "source": [
    "AUC value on test set using RNN(LSTM) is 0.98, while AUC value on test set using CNN is 0.97. Both have good performance while LSTM is slightly better."
   ]
  }
 ],
 "metadata": {
  "kernelspec": {
   "display_name": "Python 3",
   "language": "python",
   "name": "python3"
  },
  "language_info": {
   "codemirror_mode": {
    "name": "ipython",
    "version": 3
   },
   "file_extension": ".py",
   "mimetype": "text/x-python",
   "name": "python",
   "nbconvert_exporter": "python",
   "pygments_lexer": "ipython3",
   "version": "3.7.4"
  }
 },
 "nbformat": 4,
 "nbformat_minor": 2
}
